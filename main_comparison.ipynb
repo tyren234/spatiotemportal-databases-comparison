{
 "cells": [
  {
   "cell_type": "code",
   "id": "initial_id",
   "metadata": {
    "collapsed": true,
    "ExecuteTime": {
     "end_time": "2024-08-05T16:07:41.090637Z",
     "start_time": "2024-08-05T16:07:40.075571Z"
    }
   },
   "source": [
    "from pprint import pprint\n",
    "\n",
    "import folium\n",
    "from bson import SON\n",
    "from dotenv import load_dotenv\n",
    "import os \n",
    "import logger_setup\n",
    "import logging\n",
    "from pymongo import MongoClient, GEO2D\n",
    "from pymongo.database import Database, Collection\n",
    "from csv_reader import ais_csv_to_gdf, split_df_by_batch_size\n",
    "\n",
    "import time\n",
    "\n",
    "import numpy as np\n",
    "from dotenv import load_dotenv\n",
    "\n",
    "import logger_setup\n",
    "\n",
    "import pandas as pd\n",
    "from influxdb_client import InfluxDBClient\n",
    "# Ciekawy statek:\n",
    "# 215131000\n",
    "\n",
    "import os\n",
    "from influxdb_client import Point\n",
    "from influxdb_client.client.write_api import SYNCHRONOUS\n",
    "\n",
    "from csv_reader import ais_csv_to_df\n",
    "\n",
    "import psycopg2\n",
    "\n",
    "logger_setup.setup_logging(level=logging.INFO)\n",
    "logger = logging.getLogger()\n",
    "load_dotenv()"
   ],
   "outputs": [
    {
     "data": {
      "text/plain": [
       "True"
      ]
     },
     "execution_count": 1,
     "metadata": {},
     "output_type": "execute_result"
    }
   ],
   "execution_count": 1
  },
  {
   "metadata": {},
   "cell_type": "markdown",
   "source": [
    "---\n",
    "\n",
    "# Setup\n",
    "\n",
    "## Mongo setup"
   ],
   "id": "d07239a98030f862"
  },
  {
   "metadata": {
    "ExecuteTime": {
     "end_time": "2024-08-05T16:07:41.120519Z",
     "start_time": "2024-08-05T16:07:41.097030Z"
    }
   },
   "cell_type": "code",
   "source": [
    "mongo_url = \"mongodb://localhost:\" + os.environ.get(\"MONGO_PORT\", \"55000\")\n",
    "mongo_database = \"temp\"\n",
    "mongo_collection = \"temp\"\n",
    "\n",
    "logger.info(f\"MongoDB endpoint: {mongo_url}\")\n",
    "logger.info(f\"MongoDB database name: {mongo_database}\")\n",
    "logger.info(f\"MongoDB collection name: {mongo_collection}\")"
   ],
   "id": "41f5d51a6154f0d0",
   "outputs": [
    {
     "name": "stderr",
     "output_type": "stream",
     "text": [
      "2024-08-05 18:07:41,116 - INFO: MongoDB endpoint: mongodb://localhost:55000\n",
      "2024-08-05 18:07:41,117 - INFO: MongoDB database name: temp\n",
      "2024-08-05 18:07:41,118 - INFO: MongoDB collection name: temp\n"
     ]
    }
   ],
   "execution_count": 3
  },
  {
   "metadata": {},
   "cell_type": "markdown",
   "source": "## Influx setup",
   "id": "eeeaa04e656429aa"
  },
  {
   "metadata": {},
   "cell_type": "code",
   "outputs": [],
   "execution_count": null,
   "source": [
    "\n",
    "influx_token = os.environ.get(\"API_INFLUX_KEY\")\n",
    "influx_org = os.environ.get(\"INFLUX_ORG_ID\")\n",
    "influx_url = \"http://localhost:\" + os.environ.get(\"INFLUX_PORT\", \"55000\")\n",
    "\n",
    "logger.debug(f\"InfluxDB Token: {influx_token}\")\n",
    "logger.debug(f\"InfluxDB Organization id: {influx_org}\")\n",
    "logger.info(f\"InfluxDB  Database endpoint: {influx_url}\")"
   ],
   "id": "c35bdf5b54be0f4f"
  },
  {
   "metadata": {},
   "cell_type": "markdown",
   "source": "## MobilityDB setup",
   "id": "d41e40b0748b7c9c"
  },
  {
   "metadata": {},
   "cell_type": "code",
   "source": [
    "mobility_host       = os.environ.get(\"MOBILITY_HOST\")\n",
    "mobility_port       = os.environ.get(\"MOBILITY_PORT\")\n",
    "mobility_user       = os.environ.get(\"MOBILITY_USER\")\n",
    "mobility_password   = os.environ.get(\"MOBILITY_PASSWORD\")\n",
    "mobility_database   = os.environ.get(\"MOBILITY_DATABASE\")"
   ],
   "id": "4e0c658c85d99d5d",
   "outputs": [],
   "execution_count": null
  },
  {
   "metadata": {},
   "cell_type": "markdown",
   "source": [
    "# Queries\n",
    "\n",
    "---\n",
    "\n",
    "## Spatial queries\n",
    "\n",
    "---\n",
    "\n",
    "### Datasest"
   ],
   "id": "d4d005016b3fc50"
  },
  {
   "metadata": {
    "ExecuteTime": {
     "end_time": "2024-08-05T18:21:36.684468Z",
     "start_time": "2024-08-05T18:21:36.677458Z"
    }
   },
   "cell_type": "code",
   "source": [
    "class Bbox:\n",
    "    def __init__(self, min_lon, min_lat, max_lon, max_lat):\n",
    "        self.min_lon = min_lon\n",
    "        self.min_lat = min_lat\n",
    "        self.max_lon = max_lon\n",
    "        self.max_lat = max_lat\n",
    "    \n",
    "    def get_coords(self):\n",
    "        return [self.min_lon, self.min_lat, self.max_lon, self.max_lat]\n",
    "    \n",
    "bounding_boxes = [\n",
    "    Bbox(-123.247925, 48.136125, -122.739476, 48.362910),  # Puget Sound, Washington\n",
    "    Bbox(-123.016525, 37.639830, -122.283450, 37.929824),  # San Francisco Bay, California\n",
    "    Bbox(-76.510574, 37.973348, -75.962608, 38.393338),    # Chesapeake Bay, Maryland/Virginia\n",
    "    Bbox(-88.161018, 30.334953, -87.927567, 30.639975),    # Mobile Bay, Alabama\n",
    "    Bbox(-95.104218, 29.327599, -94.617409, 29.623018),    # Galveston Bay, Texas\n",
    "    Bbox(-82.775543, 27.599938, -82.320755, 27.934847),    # Tampa Bay, Florida\n",
    "    Bbox(-122.019295, 36.776848, -121.819153, 37.018274),  # Monterey Bay, California\n",
    "    Bbox(-71.484741, 41.454842, -71.173431, 41.735072),    # Narragansett Bay, Rhode Island\n",
    "    Bbox(-117.253113, 32.600235, -117.085083, 32.736514),  # San Diego Bay, California\n",
    "    Bbox(-88.135986, 44.474116, -87.745605, 44.794497),    # Green Bay\n",
    "    \n",
    "    Bbox(-80.45290918232058, 29.060643707480367, -78.32704059023007, 31.29195079716895),  # Georgia coast\n",
    "    Bbox(-77.36586166597581, 31.282283517600803, -75.27345529761102, 33.760865420475),  # North Carolina coast\n",
    "    Bbox(-74.51771061340146, 34.75075477385059, -71.85177110891351, 37.752840882799006),  # Delaware Bay area\n",
    "    Bbox(-73.8132903076812, 39.28679980551155, -69.84951150110152, 40.36716788459955),  # Long Island Sound, New York\n",
    "    Bbox(-87.53216792628709, 42.614159443972795, -86.57811342936832, 43.95974516921851),  # Lake Michigan\n",
    "    Bbox(-88.8185473646937, 47.31402814776524, -85.97885758914987, 48.36369038185671),  # Lake Superior\n",
    "    Bbox(-119.28398346805034, 28.592051721892147, -116.88328729269529, 32.65616790678931),  # Baja California coast\n",
    "    Bbox(-115.22516221315561, 21.159217960533027, -112.50145598046407, 25.734344868162523),  # Gulf of California 0\n",
    "    Bbox(-111.04125138719715, 20.598750857797, -105.33212892067695, 22.5805686602515),  # Northern Gulf of California 0\n",
    "    Bbox(-96.79281541240942, 25.885529478254256, -93.32496228352338, 28.099129345180913),  # Gulf of Mexico\n",
    "    Bbox(-88.54476002663944, 27.4284592236325, -84.0568785413999, 30.09273196827901),  # Gulf of Mexico, Alabama\n",
    "    Bbox(-128.9871203472166, 40.000911885515904, -125.04987957500578, 48.818149529347096),  # Alaska coast\n",
    "    Bbox(-126.4987002469207, 35.49916842114703, -122.76107863128735, 38.76867969769498),  # Off the coast of California\n",
    "    Bbox(-90.41838995337584, 30.039892740717292, -89.89240461303508, 30.37633672889592),  # Mississippi coast\n",
    "    Bbox(-123.02323990734207, 32.99070496259917, -119.56454319294964, 35.24101423046929)  # Northern California coast\n",
    "]"
   ],
   "id": "7a154fa87b7da57c",
   "outputs": [],
   "execution_count": 74
  },
  {
   "metadata": {},
   "cell_type": "markdown",
   "source": [
    "---\n",
    "\n",
    "### MongoDB"
   ],
   "id": "32fc7b5db66c480d"
  },
  {
   "metadata": {
    "ExecuteTime": {
     "end_time": "2024-08-05T18:31:16.123436Z",
     "start_time": "2024-08-05T18:27:58.356082Z"
    }
   },
   "cell_type": "code",
   "source": [
    "# Mongo\n",
    "\n",
    "client: MongoClient = MongoClient(mongo_url)\n",
    "db: Database = client[mongo_database]\n",
    "collection: Collection = db[mongo_collection]\n",
    "\n",
    "mongo_spatial_times = []\n",
    "\n",
    "logger.info(f\"Running Mongo spatial\")\n",
    "for bbox in bounding_boxes:\n",
    "    min_lon, min_lat, max_lon, max_lat = bbox.get_coords()\n",
    "    \n",
    "    # Define the query using $geoWithin and $box\n",
    "    query = {\n",
    "        'geometry': {\n",
    "            '$geoWithin': {\n",
    "                '$box': [\n",
    "                    [min_lon, min_lat],\n",
    "                    [max_lon, max_lat]\n",
    "                ]\n",
    "            }\n",
    "        }\n",
    "    }\n",
    "    start_time = time.time()\n",
    "    # Execute the query\n",
    "    results = list(collection.find(query, {'_id': False}))\n",
    "    end_time = time.time()\n",
    "    logger.info(f\"Query time: {end_time - start_time}, no. of results: {len(results)}\")\n",
    "    mongo_spatial_times.append(end_time - start_time)\n",
    "\n",
    "logger.info(f\"Mongo spatial average time: {sum(mongo_spatial_times) / len(mongo_spatial_times)}\")\n",
    "\n",
    "client.close()"
   ],
   "id": "c7a3fcf41f5bfe55",
   "outputs": [
    {
     "name": "stderr",
     "output_type": "stream",
     "text": [
      "2024-08-05 20:27:58,361 - INFO: Running Mongo spatial\n",
      "2024-08-05 20:27:58,362 - INFO: {\"message\": \"Waiting for suitable server to become available\", \"selector\": \"Primary()\", \"operation\": \"find\", \"topologyDescription\": \"<TopologyDescription id: 66b119ae48826bcaa1202004, topology_type: Unknown, servers: [<ServerDescription ('localhost', 55000) server_type: Unknown, rtt: None>]>\", \"clientId\": {\"$oid\": \"66b119ae48826bcaa1202004\"}, \"remainingTimeMS\": 29}\n",
      "2024-08-05 20:28:07,054 - INFO: Query time: 8.691434621810913, no. of results: 2611\n",
      "2024-08-05 20:28:15,663 - INFO: Query time: 8.60830807685852, no. of results: 94798\n",
      "2024-08-05 20:28:23,391 - INFO: Query time: 7.7273173332214355, no. of results: 3813\n",
      "2024-08-05 20:28:31,292 - INFO: Query time: 7.899705410003662, no. of results: 3242\n",
      "2024-08-05 20:28:41,270 - INFO: Query time: 9.977306842803955, no. of results: 102114\n",
      "2024-08-05 20:28:49,622 - INFO: Query time: 8.35139799118042, no. of results: 58465\n",
      "2024-08-05 20:28:57,187 - INFO: Query time: 7.56468939781189, no. of results: 997\n",
      "2024-08-05 20:29:05,260 - INFO: Query time: 8.071645021438599, no. of results: 27810\n",
      "2024-08-05 20:29:13,753 - INFO: Query time: 8.491555452346802, no. of results: 113580\n",
      "2024-08-05 20:29:21,346 - INFO: Query time: 7.592447280883789, no. of results: 210\n",
      "2024-08-05 20:29:28,925 - INFO: Query time: 7.578155040740967, no. of results: 3814\n",
      "2024-08-05 20:29:36,554 - INFO: Query time: 7.627449035644531, no. of results: 562\n",
      "2024-08-05 20:29:44,048 - INFO: Query time: 7.49307656288147, no. of results: 2239\n",
      "2024-08-05 20:29:51,782 - INFO: Query time: 7.73352575302124, no. of results: 7258\n",
      "2024-08-05 20:29:59,301 - INFO: Query time: 7.51749587059021, no. of results: 398\n",
      "2024-08-05 20:30:06,628 - INFO: Query time: 7.3262388706207275, no. of results: 3823\n",
      "2024-08-05 20:30:14,307 - INFO: Query time: 7.6787378787994385, no. of results: 30066\n",
      "2024-08-05 20:30:21,768 - INFO: Query time: 7.459998369216919, no. of results: 0\n",
      "2024-08-05 20:30:29,240 - INFO: Query time: 7.4703075885772705, no. of results: 0\n",
      "2024-08-05 20:30:37,092 - INFO: Query time: 7.852040767669678, no. of results: 6439\n",
      "2024-08-05 20:30:44,964 - INFO: Query time: 7.870845317840576, no. of results: 13326\n",
      "2024-08-05 20:30:52,352 - INFO: Query time: 7.386603116989136, no. of results: 7150\n",
      "2024-08-05 20:30:59,994 - INFO: Query time: 7.6416261196136475, no. of results: 8063\n",
      "2024-08-05 20:31:07,602 - INFO: Query time: 7.606637716293335, no. of results: 1269\n",
      "2024-08-05 20:31:16,118 - INFO: Query time: 8.515466928482056, no. of results: 16841\n",
      "2024-08-05 20:31:16,119 - INFO: Mongo spatial average time: 7.909360494613647\n"
     ]
    }
   ],
   "execution_count": 76
  },
  {
   "metadata": {},
   "cell_type": "markdown",
   "source": [
    "\n",
    "\n",
    "---\n",
    "\n",
    "### InfluxDB"
   ],
   "id": "d587d13f15231e32"
  },
  {
   "metadata": {},
   "cell_type": "code",
   "outputs": [],
   "execution_count": null,
   "source": "# Influx",
   "id": "e1d15d99dd11b96f"
  },
  {
   "metadata": {},
   "cell_type": "markdown",
   "source": [
    "---\n",
    "\n",
    "### MobilityDB"
   ],
   "id": "4db0be342c9b004f"
  },
  {
   "metadata": {},
   "cell_type": "code",
   "outputs": [],
   "execution_count": null,
   "source": [
    "# Mobility\n",
    "\n",
    "conn = psycopg2.connect(\n",
    "    database    = mobility_database,\n",
    "    host        = mobility_host,\n",
    "    user        = mobility_user,\n",
    "    password    = mobility_password,\n",
    "    port        = mobility_port,\n",
    ")\n",
    "\n",
    "cursor = conn.cursor()\n",
    "\n",
    "cursor.execute(f'''\n",
    "select mmsi, st_astext((attime(route,\n",
    "                     tstzspan('[2020-12-31T00:00:00Z, 2020-12-31T00:01:00Z]')\n",
    "              )\n",
    "    )::geometry) as route\n",
    "from aggregated_vessel_positions\n",
    "where eintersects(st_setsrid(ST_MakeEnvelope(-88.0, 41.80, -87.0, 41.87), 4326), route);\n",
    "''')\n",
    "\n",
    "print(cursor.fetchmany(size=10))\n",
    "\n",
    "conn.close()"
   ],
   "id": "82e5609c4a241953"
  },
  {
   "metadata": {},
   "cell_type": "markdown",
   "source": [
    "---\n",
    "\n",
    "## Temporal queries\n",
    "\n",
    "---\n",
    "\n",
    "### MongoDB"
   ],
   "id": "bda7a6be4eda6412"
  },
  {
   "metadata": {
    "ExecuteTime": {
     "end_time": "2024-07-31T17:30:10.087328Z",
     "start_time": "2024-07-31T17:30:10.084412Z"
    }
   },
   "cell_type": "code",
   "source": "# Mongo",
   "id": "da640c4cf8f9986f",
   "outputs": [],
   "execution_count": 17
  },
  {
   "metadata": {},
   "cell_type": "markdown",
   "source": [
    "---\n",
    "\n",
    "### InfluxDB"
   ],
   "id": "9b25de716cae7ef3"
  },
  {
   "metadata": {
    "ExecuteTime": {
     "end_time": "2024-07-31T17:30:14.708687Z",
     "start_time": "2024-07-31T17:30:14.706072Z"
    }
   },
   "cell_type": "code",
   "source": "# Influx",
   "id": "e79a38f48674ae3f",
   "outputs": [],
   "execution_count": 18
  },
  {
   "metadata": {},
   "cell_type": "markdown",
   "source": [
    "---\n",
    "\n",
    "### MobilityDB"
   ],
   "id": "a03d67cf3bf077eb"
  },
  {
   "metadata": {
    "ExecuteTime": {
     "end_time": "2024-07-31T17:30:15.464417Z",
     "start_time": "2024-07-31T17:30:15.460967Z"
    }
   },
   "cell_type": "code",
   "source": "# Mobility",
   "id": "fdcd4a976060f307",
   "outputs": [],
   "execution_count": 19
  },
  {
   "metadata": {},
   "cell_type": "markdown",
   "source": [
    "---\n",
    "\n",
    "## Spatiotemporal queries\n",
    "\n",
    "---\n",
    "\n",
    "### MongoDB"
   ],
   "id": "50c88de3a4ebfc11"
  },
  {
   "metadata": {
    "ExecuteTime": {
     "end_time": "2024-07-31T17:30:35.098233Z",
     "start_time": "2024-07-31T17:30:35.095675Z"
    }
   },
   "cell_type": "code",
   "source": "# Mongo",
   "id": "ff552b885225f05f",
   "outputs": [],
   "execution_count": 20
  },
  {
   "metadata": {},
   "cell_type": "markdown",
   "source": [
    "---\n",
    "\n",
    "### InfluxDB"
   ],
   "id": "4e5d08a3a9595ad8"
  },
  {
   "metadata": {
    "ExecuteTime": {
     "end_time": "2024-07-31T17:30:35.426295Z",
     "start_time": "2024-07-31T17:30:35.423256Z"
    }
   },
   "cell_type": "code",
   "source": "# Influx",
   "id": "134cd0ff2109b2f9",
   "outputs": [],
   "execution_count": 21
  },
  {
   "metadata": {},
   "cell_type": "markdown",
   "source": [
    "---\n",
    "\n",
    "### MobilityDB"
   ],
   "id": "3655f76dc6dc9509"
  },
  {
   "metadata": {
    "ExecuteTime": {
     "end_time": "2024-07-31T17:30:35.864199Z",
     "start_time": "2024-07-31T17:30:35.861138Z"
    }
   },
   "cell_type": "code",
   "source": "# Mobility",
   "id": "e19810eb2ab499ce",
   "outputs": [],
   "execution_count": 22
  },
  {
   "metadata": {},
   "cell_type": "markdown",
   "source": [
    "---\n",
    "\n",
    "## Results\n",
    "\n",
    "---"
   ],
   "id": "a79ab25a3bf32fdd"
  },
  {
   "metadata": {
    "ExecuteTime": {
     "end_time": "2024-07-31T17:31:07.092849Z",
     "start_time": "2024-07-31T17:31:07.089367Z"
    }
   },
   "cell_type": "code",
   "source": "# Results",
   "id": "3b8639b6ba1509fa",
   "outputs": [],
   "execution_count": 23
  },
  {
   "metadata": {},
   "cell_type": "code",
   "outputs": [],
   "execution_count": null,
   "source": "",
   "id": "f382a9085702bcdf"
  },
  {
   "metadata": {},
   "cell_type": "markdown",
   "source": [
    "# Visualisations\n",
    "\n",
    "---"
   ],
   "id": "4a86122c21fa9fec"
  },
  {
   "metadata": {},
   "cell_type": "code",
   "source": [
    "# mongo\n",
    "import folium\n",
    "\n",
    "def get_mongo_results_folium(results, *geojsons):\n",
    "    CHICAGO_COORDINATES = (42, -95)\n",
    "    \n",
    "    map_attributions = ('&copy; <a href=\"http://www.openstreetmap.org/copyright\">OpenStreetMap</a> '\n",
    "                        'contributors, &copy; <a href=\"http://cartodb.com/attributions\">CartoDB</a>')\n",
    "    \n",
    "    m = folium.Map(location=CHICAGO_COORDINATES,\n",
    "                   attr=map_attributions,\n",
    "                   zoom_start=5,\n",
    "                   control_scale=True,\n",
    "                   height=800,\n",
    "                   width=1400)\n",
    "    for entry in results:\n",
    "        geojson = (folium.GeoJson(entry))\n",
    "        popup = folium.Popup(f\"mmsi: {entry['properties']['MMSI']}, name {entry['properties']['VesselName']}, time: {entry['properties']['BaseDateTime']}\")\n",
    "        popup.add_to(geojson)\n",
    "        geojson.add_to(m)\n",
    "    \n",
    "    for geojson in geojsons:\n",
    "        folium.GeoJson(data=geojson).add_to(m)\n",
    "        \n",
    "    return m\n",
    "\n",
    "m: folium.Map = get_mongo_results_folium(results)\n",
    "m"
   ],
   "id": "62ede256ddece904",
   "outputs": [],
   "execution_count": null
  }
 ],
 "metadata": {
  "kernelspec": {
   "display_name": "Python 3",
   "language": "python",
   "name": "python3"
  },
  "language_info": {
   "codemirror_mode": {
    "name": "ipython",
    "version": 2
   },
   "file_extension": ".py",
   "mimetype": "text/x-python",
   "name": "python",
   "nbconvert_exporter": "python",
   "pygments_lexer": "ipython2",
   "version": "2.7.6"
  }
 },
 "nbformat": 4,
 "nbformat_minor": 5
}
