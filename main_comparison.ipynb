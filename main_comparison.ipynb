{
 "cells": [
  {
   "cell_type": "code",
   "execution_count": null,
   "id": "initial_id",
   "metadata": {
    "collapsed": true
   },
   "outputs": [],
   "source": [
    "from pprint import pprint\n",
    "from bson import SON\n",
    "from dotenv import load_dotenv\n",
    "import os \n",
    "import logger_setup\n",
    "import logging\n",
    "from pymongo import MongoClient, GEO2D\n",
    "from pymongo.database import Database, Collection\n",
    "from csv_reader import ais_csv_to_gdf, split_df_by_batch_size\n",
    "\n",
    "import time\n",
    "\n",
    "import numpy as np\n",
    "from dotenv import load_dotenv\n",
    "\n",
    "import logger_setup\n",
    "\n",
    "import pandas as pd\n",
    "from influxdb_client import InfluxDBClient\n",
    "# Ciekawy statek:\n",
    "# 215131000\n",
    "\n",
    "import os\n",
    "from influxdb_client import Point\n",
    "from influxdb_client.client.write_api import SYNCHRONOUS\n",
    "\n",
    "from csv_reader import ais_csv_to_df\n",
    "\n",
    "import psycopg2\n",
    "\n",
    "\n",
    "logger_setup.setup_logging(level=logging.INFO)\n",
    "logger = logging.getLogger()\n",
    "load_dotenv()"
   ]
  },
  {
   "metadata": {},
   "cell_type": "markdown",
   "source": [
    "---\n",
    "\n",
    "# Setup\n",
    "\n",
    "## Mongo setup"
   ],
   "id": "d07239a98030f862"
  },
  {
   "metadata": {},
   "cell_type": "code",
   "outputs": [],
   "execution_count": null,
   "source": [
    "mongo_url = \"http://localhost:\" + os.environ.get(\"MONGO_PORT\", \"55000\")\n",
    "mongo_database = \"temp\"\n",
    "mongo_collection = \"temp\"\n",
    "\n",
    "logger.info(f\"MongoDB endpoint: {mongo_url}\")\n",
    "logger.info(f\"MongoDB database name: {mongo_database}\")\n",
    "logger.info(f\"MongoDB collection name: {mongo_collection}\")"
   ],
   "id": "41f5d51a6154f0d0"
  },
  {
   "metadata": {},
   "cell_type": "markdown",
   "source": "## Influx setup",
   "id": "eeeaa04e656429aa"
  },
  {
   "metadata": {},
   "cell_type": "code",
   "outputs": [],
   "execution_count": null,
   "source": [
    "\n",
    "influx_token = os.environ.get(\"API_INFLUX_KEY\")\n",
    "influx_org = os.environ.get(\"INFLUX_ORG_ID\")\n",
    "influx_url = \"http://localhost:\" + os.environ.get(\"INFLUX_PORT\", \"55000\")\n",
    "\n",
    "logger.debug(f\"InfluxDB Token: {influx_token}\")\n",
    "logger.debug(f\"InfluxDB Organization id: {influx_org}\")\n",
    "logger.info(f\"InfluxDB  Database endpoint: {influx_url}\")"
   ],
   "id": "c35bdf5b54be0f4f"
  },
  {
   "metadata": {},
   "cell_type": "markdown",
   "source": "## MobilityDB setup",
   "id": "d41e40b0748b7c9c"
  },
  {
   "metadata": {},
   "cell_type": "code",
   "source": [
    "mobility_host       = os.environ.get(\"MOBILITY_HOST\")\n",
    "mobility_port       = os.environ.get(\"MOBILITY_PORT\")\n",
    "mobility_user       = os.environ.get(\"MOBILITY_USER\")\n",
    "mobility_password   = os.environ.get(\"MOBILITY_PASSWORD\")\n",
    "mobility_database   = os.environ.get(\"MOBILITY_DATABASE\")\n",
    "\n",
    "\n",
    "conn = psycopg2.connect(\n",
    "    database    = mobility_database,\n",
    "    host        = mobility_host,\n",
    "    user        = mobility_user,\n",
    "    password    = mobility_password,\n",
    "    port        = mobility_port,\n",
    ")\n",
    "\n",
    "cursor = conn.cursor()\n",
    "\n",
    "cursor.execute(f'''\n",
    "select mmsi, st_astext((attime(route,\n",
    "                     tstzspan('[2020-12-31T00:00:00Z, 2020-12-31T00:01:00Z]')\n",
    "              )\n",
    "    )::geometry) as route\n",
    "from aggregated_vessel_positions\n",
    "where eintersects(st_setsrid(ST_MakeEnvelope(-88.0, 41.80, -87.0, 41.87), 4326), route);\n",
    "''')\n",
    "\n",
    "print(cursor.fetchmany(size=10))\n",
    "\n",
    "conn.close()"
   ],
   "id": "4e0c658c85d99d5d",
   "outputs": [],
   "execution_count": null
  },
  {
   "metadata": {},
   "cell_type": "markdown",
   "source": [
    "# Queries\n",
    "\n",
    "---\n",
    "\n",
    "## Spatial queries\n",
    "\n",
    "---\n",
    "\n",
    "### MongoDB"
   ],
   "id": "d4d005016b3fc50"
  },
  {
   "metadata": {},
   "cell_type": "code",
   "outputs": [],
   "execution_count": null,
   "source": "# Mongo",
   "id": "c7a3fcf41f5bfe55"
  },
  {
   "metadata": {},
   "cell_type": "markdown",
   "source": [
    "---\n",
    "\n",
    "### InfluxDB"
   ],
   "id": "d587d13f15231e32"
  },
  {
   "metadata": {},
   "cell_type": "code",
   "outputs": [],
   "execution_count": null,
   "source": "# Influx",
   "id": "e1d15d99dd11b96f"
  },
  {
   "metadata": {},
   "cell_type": "markdown",
   "source": [
    "---\n",
    "\n",
    "### MobilityDB"
   ],
   "id": "4db0be342c9b004f"
  },
  {
   "metadata": {},
   "cell_type": "code",
   "outputs": [],
   "execution_count": null,
   "source": "# Mobility",
   "id": "82e5609c4a241953"
  },
  {
   "metadata": {},
   "cell_type": "markdown",
   "source": [
    "---\n",
    "\n",
    "## Temporal queries\n",
    "\n",
    "---\n",
    "\n",
    "### MongoDB"
   ],
   "id": "bda7a6be4eda6412"
  },
  {
   "metadata": {
    "ExecuteTime": {
     "end_time": "2024-07-31T17:30:10.087328Z",
     "start_time": "2024-07-31T17:30:10.084412Z"
    }
   },
   "cell_type": "code",
   "source": "# Mongo",
   "id": "da640c4cf8f9986f",
   "outputs": [],
   "execution_count": 17
  },
  {
   "metadata": {},
   "cell_type": "markdown",
   "source": [
    "---\n",
    "\n",
    "### InfluxDB"
   ],
   "id": "9b25de716cae7ef3"
  },
  {
   "metadata": {
    "ExecuteTime": {
     "end_time": "2024-07-31T17:30:14.708687Z",
     "start_time": "2024-07-31T17:30:14.706072Z"
    }
   },
   "cell_type": "code",
   "source": "# Influx",
   "id": "e79a38f48674ae3f",
   "outputs": [],
   "execution_count": 18
  },
  {
   "metadata": {},
   "cell_type": "markdown",
   "source": [
    "---\n",
    "\n",
    "### MobilityDB"
   ],
   "id": "a03d67cf3bf077eb"
  },
  {
   "metadata": {
    "ExecuteTime": {
     "end_time": "2024-07-31T17:30:15.464417Z",
     "start_time": "2024-07-31T17:30:15.460967Z"
    }
   },
   "cell_type": "code",
   "source": "# Mobility",
   "id": "fdcd4a976060f307",
   "outputs": [],
   "execution_count": 19
  },
  {
   "metadata": {},
   "cell_type": "markdown",
   "source": [
    "---\n",
    "\n",
    "## Spatiotemporal queries\n",
    "\n",
    "---\n",
    "\n",
    "### MongoDB"
   ],
   "id": "50c88de3a4ebfc11"
  },
  {
   "metadata": {
    "ExecuteTime": {
     "end_time": "2024-07-31T17:30:35.098233Z",
     "start_time": "2024-07-31T17:30:35.095675Z"
    }
   },
   "cell_type": "code",
   "source": "# Mongo",
   "id": "ff552b885225f05f",
   "outputs": [],
   "execution_count": 20
  },
  {
   "metadata": {},
   "cell_type": "markdown",
   "source": [
    "---\n",
    "\n",
    "### InfluxDB"
   ],
   "id": "4e5d08a3a9595ad8"
  },
  {
   "metadata": {
    "ExecuteTime": {
     "end_time": "2024-07-31T17:30:35.426295Z",
     "start_time": "2024-07-31T17:30:35.423256Z"
    }
   },
   "cell_type": "code",
   "source": "# Influx",
   "id": "134cd0ff2109b2f9",
   "outputs": [],
   "execution_count": 21
  },
  {
   "metadata": {},
   "cell_type": "markdown",
   "source": [
    "---\n",
    "\n",
    "### MobilityDB"
   ],
   "id": "3655f76dc6dc9509"
  },
  {
   "metadata": {
    "ExecuteTime": {
     "end_time": "2024-07-31T17:30:35.864199Z",
     "start_time": "2024-07-31T17:30:35.861138Z"
    }
   },
   "cell_type": "code",
   "source": "# Mobility",
   "id": "e19810eb2ab499ce",
   "outputs": [],
   "execution_count": 22
  },
  {
   "metadata": {},
   "cell_type": "markdown",
   "source": [
    "---\n",
    "\n",
    "## Results\n",
    "\n",
    "---"
   ],
   "id": "a79ab25a3bf32fdd"
  },
  {
   "metadata": {
    "ExecuteTime": {
     "end_time": "2024-07-31T17:31:07.092849Z",
     "start_time": "2024-07-31T17:31:07.089367Z"
    }
   },
   "cell_type": "code",
   "source": "# Results",
   "id": "3b8639b6ba1509fa",
   "outputs": [],
   "execution_count": 23
  }
 ],
 "metadata": {
  "kernelspec": {
   "display_name": "Python 3",
   "language": "python",
   "name": "python3"
  },
  "language_info": {
   "codemirror_mode": {
    "name": "ipython",
    "version": 2
   },
   "file_extension": ".py",
   "mimetype": "text/x-python",
   "name": "python",
   "nbconvert_exporter": "python",
   "pygments_lexer": "ipython2",
   "version": "2.7.6"
  }
 },
 "nbformat": 4,
 "nbformat_minor": 5
}
