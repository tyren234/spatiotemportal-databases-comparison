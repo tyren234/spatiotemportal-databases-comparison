{
 "cells": [
  {
   "metadata": {},
   "cell_type": "markdown",
   "source": "This invokes functions defined in `comparison_commons.py`. For more information on how to use them - see the source code.",
   "id": "f5139a6faf34a7d4"
  },
  {
   "cell_type": "code",
   "id": "initial_id",
   "metadata": {
    "collapsed": true,
    "ExecuteTime": {
     "end_time": "2024-09-25T17:34:18.924249Z",
     "start_time": "2024-09-25T17:34:18.314945Z"
    }
   },
   "source": "import comparison_commons as cc",
   "outputs": [],
   "execution_count": 2
  },
  {
   "metadata": {
    "jupyter": {
     "is_executing": true
    },
    "ExecuteTime": {
     "start_time": "2024-09-25T17:35:57.884167Z"
    }
   },
   "cell_type": "code",
   "source": [
    "skip_first_n = 0\n",
    "no_of_iterations = 10\n",
    "\n",
    "bounding_boxes_table = cc.bounding_boxes\n",
    "timespans_table = cc.timespans\n",
    "\n",
    "no_bboxes = len(bounding_boxes_table)\n",
    "no_timespans = len(timespans_table)\n",
    "\n",
    "for i in range(no_of_iterations):\n",
    "    if i < skip_first_n:\n",
    "        continue\n",
    "    print(f\"Iteration {i}. Spatial.\")\n",
    "    cc.measure_mobility_spatial(create_results=False, iteration_table=bounding_boxes_table, export_csv_filename=f\"mobility_spatial_{i}.csv\")\n",
    "    cc.measure_mongo_spatial(create_results=False, iteration_table=bounding_boxes_table, export_csv_filename=f\"mongo_spatial_{i}.csv\")\n",
    "    print(f\"Iteration {i}. Temporal.\")\n",
    "    cc.measure_mobility_temporal(create_results=False, iteration_table=timespans_table, export_csv_filename=f\"mobility_temporal_{i}.csv\")\n",
    "    cc.measure_mongo_temporal(create_results=False, iteration_table=timespans_table, export_csv_filename=f\"mongo_temporal_{i}.csv\")\n",
    "    cc.measure_influx_temporal(create_results=False, iteration_table=timespans_table, export_csv_filename=f\"influx_temporal_{i}.csv\")\n",
    "\n",
    "# Do spatiotemporal of every timespan for every bbox. \n",
    "# So for every bbox:\n",
    "# For every timespan:\n",
    "for timespan in timespans_table:\n",
    "    print(f\"All bboxes, timespan {timespan.get_id()} for spatiotemporal\")\n",
    "    timespans_for_this_iteration = [ timespan ] * no_bboxes\n",
    "    cc.measure_mobility_spatiotemporal(create_results=False,\n",
    "                                       bounding_boxes_table=bounding_boxes_table,\n",
    "                                       timespans_table=timespans_table,\n",
    "                                       export_csv_filename=f\"mobility_spatiotemporal_timespan_{timespan.get_id()}.csv\")\n",
    "    cc.measure_mongo_spatiotemporal(create_results=False,\n",
    "                                       bounding_boxes_table=bounding_boxes_table,\n",
    "                                       timespans_table=timespans_table,\n",
    "                                       export_csv_filename=f\"mongo_spatiotemporal_timespan_{timespan.get_id()}.csv\")"
   ],
   "id": "999d89f5649a30e5",
   "outputs": [
    {
     "name": "stderr",
     "output_type": "stream",
     "text": [
      "2024-09-25 19:35:57,888 - INFO: Running Mobility spatial\n",
      "2024-09-25 19:35:57,889 - INFO: MobilityDB endpoint: 172.17.0.1:55000\n",
      "2024-09-25 19:35:57,889 - INFO: MobilityDB user name: postgres\n",
      "2024-09-25 19:35:57,889 - INFO: MobilityDB database name: aisdata\n"
     ]
    },
    {
     "name": "stdout",
     "output_type": "stream",
     "text": [
      "Iteration 0. Spatial.\n"
     ]
    },
    {
     "name": "stderr",
     "output_type": "stream",
     "text": [
      "2024-09-25 19:35:59,005 - INFO: 0/25. Query time: 1.09296, query time per result 0.00042 no. of results: 2608, bbox 0\n",
      "2024-09-25 19:36:00,405 - INFO: 1/25. Query time: 1.39978, query time per result 2e-05 no. of results: 90446, bbox 1\n",
      "2024-09-25 19:36:01,376 - INFO: 2/25. Query time: 0.96985, query time per result 0.00027 no. of results: 3618, bbox 2\n",
      "2024-09-25 19:36:02,245 - INFO: 3/25. Query time: 0.86906, query time per result 0.00031 no. of results: 2839, bbox 3\n",
      "2024-09-25 19:36:03,540 - INFO: 4/25. Query time: 1.2934, query time per result 1e-05 no. of results: 96856, bbox 4\n",
      "2024-09-25 19:36:04,470 - INFO: 5/25. Query time: 0.92909, query time per result 2e-05 no. of results: 54516, bbox 5\n",
      "2024-09-25 19:36:05,226 - INFO: 6/25. Query time: 0.75507, query time per result 0.00079 no. of results: 953, bbox 6\n",
      "2024-09-25 19:36:05,987 - INFO: 7/25. Query time: 0.7604, query time per result 3e-05 no. of results: 26290, bbox 7\n",
      "2024-09-25 19:36:07,191 - INFO: 8/25. Query time: 1.20358, query time per result 1e-05 no. of results: 106132, bbox 8\n",
      "2024-09-25 19:36:07,892 - INFO: 9/25. Query time: 0.69942, query time per result 0.00362 no. of results: 193, bbox 9\n",
      "2024-09-25 19:36:08,581 - INFO: 10/25. Query time: 0.68832, query time per result 0.00018 no. of results: 3810, bbox 10\n",
      "2024-09-25 19:36:09,279 - INFO: 11/25. Query time: 0.69801, query time per result 0.00124 no. of results: 562, bbox 11\n",
      "2024-09-25 19:36:10,006 - INFO: 12/25. Query time: 0.72621, query time per result 0.00033 no. of results: 2234, bbox 12\n",
      "2024-09-25 19:36:10,746 - INFO: 13/25. Query time: 0.73948, query time per result 0.0001 no. of results: 7241, bbox 13\n",
      "2024-09-25 19:36:11,463 - INFO: 14/25. Query time: 0.71534, query time per result 0.00181 no. of results: 395, bbox 14\n",
      "2024-09-25 19:36:12,170 - INFO: 15/25. Query time: 0.70656, query time per result 0.00019 no. of results: 3814, bbox 15\n",
      "2024-09-25 19:36:13,072 - INFO: 16/25. Query time: 0.90162, query time per result 3e-05 no. of results: 29448, bbox 16\n",
      "2024-09-25 19:36:13,755 - INFO: 17/25. Query time: 0.68248, query time per result -1 no. of results: 0, bbox 17\n",
      "2024-09-25 19:36:14,433 - INFO: 18/25. Query time: 0.67655, query time per result -1 no. of results: 0, bbox 18\n",
      "2024-09-25 19:36:15,123 - INFO: 19/25. Query time: 0.68856, query time per result 0.00011 no. of results: 6433, bbox 19\n",
      "2024-09-25 19:36:15,908 - INFO: 20/25. Query time: 0.78412, query time per result 6e-05 no. of results: 12105, bbox 20\n",
      "2024-09-25 19:36:16,652 - INFO: 21/25. Query time: 0.74331, query time per result 0.0001 no. of results: 7148, bbox 21\n",
      "2024-09-25 19:36:17,396 - INFO: 22/25. Query time: 0.74326, query time per result 9e-05 no. of results: 8043, bbox 22\n",
      "2024-09-25 19:36:18,101 - INFO: 23/25. Query time: 0.70472, query time per result 0.00056 no. of results: 1260, bbox 23\n",
      "2024-09-25 19:36:18,871 - INFO: 24/25. Query time: 0.76839, query time per result 5e-05 no. of results: 16091, bbox 24\n",
      "2024-09-25 19:36:18,872 - INFO: Mobility spatial average time: 0.8375817489624023\n",
      "2024-09-25 19:36:18,877 - INFO: MongoDB endpoint: mongodb://localhost:55001\n",
      "2024-09-25 19:36:18,878 - INFO: MongoDB database name: temp\n",
      "2024-09-25 19:36:18,878 - INFO: MongoDB collection name: aisdata31-12-2020\n",
      "2024-09-25 19:36:18,899 - INFO: Running Mongo spatial\n",
      "2024-09-25 19:36:18,901 - INFO: {\"message\": \"Waiting for suitable server to become available\", \"selector\": \"Primary()\", \"operation\": \"find\", \"topologyDescription\": \"<TopologyDescription id: 66f44a12e528fac1d4815c34, topology_type: Unknown, servers: [<ServerDescription ('localhost', 55001) server_type: Unknown, rtt: None>]>\", \"clientId\": {\"$oid\": \"66f44a12e528fac1d4815c34\"}, \"remainingTimeMS\": 29}\n",
      "2024-09-25 19:36:35,189 - INFO: 0/25. Query time: 16.28793, query time per result 0.00624 no. of results: 2611, bbox 0\n",
      "2024-09-25 19:36:43,446 - INFO: 1/25. Query time: 8.25655, query time per result 9e-05 no. of results: 94798, bbox 1\n",
      "2024-09-25 19:36:50,534 - INFO: 2/25. Query time: 7.08661, query time per result 0.00186 no. of results: 3813, bbox 2\n",
      "2024-09-25 19:36:57,371 - INFO: 3/25. Query time: 6.83591, query time per result 0.00211 no. of results: 3242, bbox 3\n"
     ]
    }
   ],
   "execution_count": null
  }
 ],
 "metadata": {
  "kernelspec": {
   "display_name": "Python 3",
   "language": "python",
   "name": "python3"
  },
  "language_info": {
   "codemirror_mode": {
    "name": "ipython",
    "version": 2
   },
   "file_extension": ".py",
   "mimetype": "text/x-python",
   "name": "python",
   "nbconvert_exporter": "python",
   "pygments_lexer": "ipython2",
   "version": "2.7.6"
  }
 },
 "nbformat": 4,
 "nbformat_minor": 5
}
