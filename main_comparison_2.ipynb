{
 "cells": [
  {
   "metadata": {},
   "cell_type": "markdown",
   "source": "This invokes functions defined in `comparison_commons.py`. For more information on how to use them - see the source code.",
   "id": "f5139a6faf34a7d4"
  },
  {
   "metadata": {
    "collapsed": true,
    "ExecuteTime": {
     "end_time": "2024-12-01T17:44:07.691227Z",
     "start_time": "2024-12-01T17:44:07.687726Z"
    }
   },
   "cell_type": "code",
   "source": "import comparison_commons as cc",
   "id": "initial_id",
   "outputs": [],
   "execution_count": 8
  },
  {
   "metadata": {
    "ExecuteTime": {
     "end_time": "2024-12-01T17:44:08.018930Z",
     "start_time": "2024-12-01T17:44:08.015301Z"
    }
   },
   "cell_type": "code",
   "source": [
    "bounding_boxes_table = cc.bounding_boxes\n",
    "timespans_table = cc.timespans\n",
    "\n",
    "no_bboxes = len(bounding_boxes_table)\n",
    "no_timespans = len(timespans_table)"
   ],
   "id": "999d89f5649a30e5",
   "outputs": [],
   "execution_count": 9
  },
  {
   "metadata": {
    "ExecuteTime": {
     "end_time": "2024-12-01T17:44:14.533698Z",
     "start_time": "2024-12-01T17:44:13.765347Z"
    }
   },
   "cell_type": "code",
   "source": [
    "skip_first_n = 27\n",
    "no_of_iterations = 30\n",
    "\n",
    "for i in range(no_of_iterations):\n",
    "    print(\"Spatial\")\n",
    "    if i < skip_first_n:\n",
    "        print(f\"Skipping iteration {i}\")\n",
    "        continue\n",
    "    print(f\"Iteration {i}. Spatial.\")\n",
    "    cc.measure_mobility_spatial(create_results=False, iteration_table=bounding_boxes_table, export_csv_filename=f\"mobility_spatial_{i}.csv\")\n",
    "    cc.measure_mongo_spatial(create_results=False, iteration_table=bounding_boxes_table, export_csv_filename=f\"mongo_spatial_{i}.csv\")"
   ],
   "id": "951335c2da099d95",
   "outputs": [
    {
     "name": "stderr",
     "output_type": "stream",
     "text": [
      "2024-12-01 18:44:13,770 - INFO: Running Mobility spatial\n",
      "2024-12-01 18:44:13,772 - INFO: MobilityDB endpoint: 172.17.0.1:55000\n",
      "2024-12-01 18:44:13,772 - INFO: MobilityDB user name: postgres\n",
      "2024-12-01 18:44:13,773 - INFO: MobilityDB database name: aisdata\n"
     ]
    },
    {
     "name": "stdout",
     "output_type": "stream",
     "text": [
      "Spatial\n",
      "Skipping iteration 0\n",
      "Spatial\n",
      "Skipping iteration 1\n",
      "Spatial\n",
      "Skipping iteration 2\n",
      "Spatial\n",
      "Skipping iteration 3\n",
      "Spatial\n",
      "Skipping iteration 4\n",
      "Spatial\n",
      "Skipping iteration 5\n",
      "Spatial\n",
      "Skipping iteration 6\n",
      "Spatial\n",
      "Skipping iteration 7\n",
      "Spatial\n",
      "Skipping iteration 8\n",
      "Spatial\n",
      "Skipping iteration 9\n",
      "Spatial\n",
      "Skipping iteration 10\n",
      "Spatial\n",
      "Skipping iteration 11\n",
      "Spatial\n",
      "Skipping iteration 12\n",
      "Spatial\n",
      "Skipping iteration 13\n",
      "Spatial\n",
      "Skipping iteration 14\n",
      "Spatial\n",
      "Skipping iteration 15\n",
      "Spatial\n",
      "Skipping iteration 16\n",
      "Spatial\n",
      "Skipping iteration 17\n",
      "Spatial\n",
      "Skipping iteration 18\n",
      "Spatial\n",
      "Skipping iteration 19\n",
      "Spatial\n",
      "Skipping iteration 20\n",
      "Spatial\n",
      "Skipping iteration 21\n",
      "Spatial\n",
      "Skipping iteration 22\n",
      "Spatial\n",
      "Skipping iteration 23\n",
      "Spatial\n",
      "Skipping iteration 24\n",
      "Spatial\n",
      "Skipping iteration 25\n",
      "Spatial\n",
      "Skipping iteration 26\n",
      "Spatial\n",
      "Iteration 27. Spatial.\n"
     ]
    },
    {
     "ename": "KeyboardInterrupt",
     "evalue": "",
     "output_type": "error",
     "traceback": [
      "\u001B[0;31m---------------------------------------------------------------------------\u001B[0m",
      "\u001B[0;31mKeyboardInterrupt\u001B[0m                         Traceback (most recent call last)",
      "Cell \u001B[0;32mIn[12], line 10\u001B[0m\n\u001B[1;32m      8\u001B[0m     \u001B[38;5;28;01mcontinue\u001B[39;00m\n\u001B[1;32m      9\u001B[0m \u001B[38;5;28mprint\u001B[39m(\u001B[38;5;124mf\u001B[39m\u001B[38;5;124m\"\u001B[39m\u001B[38;5;124mIteration \u001B[39m\u001B[38;5;132;01m{\u001B[39;00mi\u001B[38;5;132;01m}\u001B[39;00m\u001B[38;5;124m. Spatial.\u001B[39m\u001B[38;5;124m\"\u001B[39m)\n\u001B[0;32m---> 10\u001B[0m \u001B[43mcc\u001B[49m\u001B[38;5;241;43m.\u001B[39;49m\u001B[43mmeasure_mobility_spatial\u001B[49m\u001B[43m(\u001B[49m\u001B[43mcreate_results\u001B[49m\u001B[38;5;241;43m=\u001B[39;49m\u001B[38;5;28;43;01mFalse\u001B[39;49;00m\u001B[43m,\u001B[49m\u001B[43m \u001B[49m\u001B[43miteration_table\u001B[49m\u001B[38;5;241;43m=\u001B[39;49m\u001B[43mbounding_boxes_table\u001B[49m\u001B[43m,\u001B[49m\u001B[43m \u001B[49m\u001B[43mexport_csv_filename\u001B[49m\u001B[38;5;241;43m=\u001B[39;49m\u001B[38;5;124;43mf\u001B[39;49m\u001B[38;5;124;43m\"\u001B[39;49m\u001B[38;5;124;43mmobility_spatial_\u001B[39;49m\u001B[38;5;132;43;01m{\u001B[39;49;00m\u001B[43mi\u001B[49m\u001B[38;5;132;43;01m}\u001B[39;49;00m\u001B[38;5;124;43m.csv\u001B[39;49m\u001B[38;5;124;43m\"\u001B[39;49m\u001B[43m)\u001B[49m\n\u001B[1;32m     11\u001B[0m cc\u001B[38;5;241m.\u001B[39mmeasure_mongo_spatial(create_results\u001B[38;5;241m=\u001B[39m\u001B[38;5;28;01mFalse\u001B[39;00m, iteration_table\u001B[38;5;241m=\u001B[39mbounding_boxes_table, export_csv_filename\u001B[38;5;241m=\u001B[39m\u001B[38;5;124mf\u001B[39m\u001B[38;5;124m\"\u001B[39m\u001B[38;5;124mmongo_spatial_\u001B[39m\u001B[38;5;132;01m{\u001B[39;00mi\u001B[38;5;132;01m}\u001B[39;00m\u001B[38;5;124m.csv\u001B[39m\u001B[38;5;124m\"\u001B[39m)\n",
      "File \u001B[0;32m~/Documents/gits/spatiotemportal-databases-comparison/comparison_commons.py:629\u001B[0m, in \u001B[0;36mmeasure_mobility_spatial\u001B[0;34m(create_results, iteration_table, export_csv_filename)\u001B[0m\n\u001B[1;32m    627\u001B[0m     min_lon, min_lat, max_lon, max_lat \u001B[38;5;241m=\u001B[39m bbox\u001B[38;5;241m.\u001B[39mget_coords()\n\u001B[1;32m    628\u001B[0m     start_time \u001B[38;5;241m=\u001B[39m time\u001B[38;5;241m.\u001B[39mtime()\n\u001B[0;32m--> 629\u001B[0m     \u001B[43mcursor\u001B[49m\u001B[38;5;241;43m.\u001B[39;49m\u001B[43mexecute\u001B[49m\u001B[43m(\u001B[49m\u001B[38;5;124;43mf\u001B[39;49m\u001B[38;5;124;43m'''\u001B[39;49m\n\u001B[1;32m    630\u001B[0m \u001B[38;5;124;43mselect mmsi, st_asgeojson(geom), timestamp from\u001B[39;49m\n\u001B[1;32m    631\u001B[0m \u001B[38;5;124;43m(\u001B[39;49m\n\u001B[1;32m    632\u001B[0m \u001B[38;5;124;43mselect mmsi, unnest(instants(route))::geometry as geom, starttimestamp(unnest(instants(route))) as timestamp \u001B[39;49m\n\u001B[1;32m    633\u001B[0m \u001B[38;5;124;43mfrom aggregated_vessel_positions\u001B[39;49m\n\u001B[1;32m    634\u001B[0m \u001B[38;5;124;43mwhere eintersects(st_setsrid(ST_MakeEnvelope(\u001B[39;49m\u001B[38;5;132;43;01m{\u001B[39;49;00m\u001B[43mmin_lon\u001B[49m\u001B[38;5;132;43;01m}\u001B[39;49;00m\u001B[38;5;124;43m, \u001B[39;49m\u001B[38;5;132;43;01m{\u001B[39;49;00m\u001B[43mmin_lat\u001B[49m\u001B[38;5;132;43;01m}\u001B[39;49;00m\u001B[38;5;124;43m, \u001B[39;49m\u001B[38;5;132;43;01m{\u001B[39;49;00m\u001B[43mmax_lon\u001B[49m\u001B[38;5;132;43;01m}\u001B[39;49;00m\u001B[38;5;124;43m, \u001B[39;49m\u001B[38;5;132;43;01m{\u001B[39;49;00m\u001B[43mmax_lat\u001B[49m\u001B[38;5;132;43;01m}\u001B[39;49;00m\u001B[38;5;124;43m), 4326), route)\u001B[39;49m\n\u001B[1;32m    635\u001B[0m \u001B[38;5;124;43m)\u001B[39;49m\n\u001B[1;32m    636\u001B[0m \u001B[38;5;124;43mwhere st_intersects(st_setsrid(ST_MakeEnvelope(\u001B[39;49m\u001B[38;5;132;43;01m{\u001B[39;49;00m\u001B[43mmin_lon\u001B[49m\u001B[38;5;132;43;01m}\u001B[39;49;00m\u001B[38;5;124;43m, \u001B[39;49m\u001B[38;5;132;43;01m{\u001B[39;49;00m\u001B[43mmin_lat\u001B[49m\u001B[38;5;132;43;01m}\u001B[39;49;00m\u001B[38;5;124;43m, \u001B[39;49m\u001B[38;5;132;43;01m{\u001B[39;49;00m\u001B[43mmax_lon\u001B[49m\u001B[38;5;132;43;01m}\u001B[39;49;00m\u001B[38;5;124;43m, \u001B[39;49m\u001B[38;5;132;43;01m{\u001B[39;49;00m\u001B[43mmax_lat\u001B[49m\u001B[38;5;132;43;01m}\u001B[39;49;00m\u001B[38;5;124;43m), 4326), geom);\u001B[39;49m\n\u001B[1;32m    637\u001B[0m \u001B[38;5;124;43m    \u001B[39;49m\u001B[38;5;124;43m'''\u001B[39;49m\u001B[43m)\u001B[49m\n\u001B[1;32m    639\u001B[0m     mobility_result \u001B[38;5;241m=\u001B[39m []\n\u001B[1;32m    640\u001B[0m     rows_limit_per_fetch \u001B[38;5;241m=\u001B[39m \u001B[38;5;241m5000\u001B[39m\n",
      "File \u001B[0;32m/usr/lib/python3.10/encodings/utf_8.py:15\u001B[0m, in \u001B[0;36mdecode\u001B[0;34m(input, errors)\u001B[0m\n\u001B[1;32m     11\u001B[0m \u001B[38;5;66;03m### Codec APIs\u001B[39;00m\n\u001B[1;32m     13\u001B[0m encode \u001B[38;5;241m=\u001B[39m codecs\u001B[38;5;241m.\u001B[39mutf_8_encode\n\u001B[0;32m---> 15\u001B[0m \u001B[38;5;28;01mdef\u001B[39;00m \u001B[38;5;21mdecode\u001B[39m(\u001B[38;5;28minput\u001B[39m, errors\u001B[38;5;241m=\u001B[39m\u001B[38;5;124m'\u001B[39m\u001B[38;5;124mstrict\u001B[39m\u001B[38;5;124m'\u001B[39m):\n\u001B[1;32m     16\u001B[0m     \u001B[38;5;28;01mreturn\u001B[39;00m codecs\u001B[38;5;241m.\u001B[39mutf_8_decode(\u001B[38;5;28minput\u001B[39m, errors, \u001B[38;5;28;01mTrue\u001B[39;00m)\n\u001B[1;32m     18\u001B[0m \u001B[38;5;28;01mclass\u001B[39;00m \u001B[38;5;21;01mIncrementalEncoder\u001B[39;00m(codecs\u001B[38;5;241m.\u001B[39mIncrementalEncoder):\n",
      "\u001B[0;31mKeyboardInterrupt\u001B[0m: "
     ]
    }
   ],
   "execution_count": 12
  },
  {
   "metadata": {
    "jupyter": {
     "is_executing": true
    }
   },
   "cell_type": "code",
   "source": [
    "skip_first_n = 20\n",
    "no_of_iterations = 30\n",
    "for i in range(no_of_iterations):\n",
    "    print(\"Temporal\")\n",
    "    if i < skip_first_n:\n",
    "        print(f\"Skipping iteration {i}\")\n",
    "        continue    \n",
    "    print(f\"Iteration {i}. Temporal.\")\n",
    "    cc.measure_mobility_temporal(create_results=False, iteration_table=timespans_table, export_csv_filename=f\"mobility_temporal_{i}.csv\")\n",
    "    cc.measure_mongo_temporal(create_results=False, iteration_table=timespans_table, export_csv_filename=f\"mongo_temporal_{i}.csv\")\n",
    "    cc.measure_influx_temporal(create_results=False, iteration_table=timespans_table, export_csv_filename=f\"influx_temporal_{i}.csv\")"
   ],
   "id": "62bba9551c23b134",
   "outputs": [],
   "execution_count": null
  },
  {
   "metadata": {
    "ExecuteTime": {
     "end_time": "2024-12-01T18:13:19.380747Z",
     "start_time": "2024-12-01T18:12:44.903341Z"
    }
   },
   "cell_type": "code",
   "source": [
    "skip_first_n = 0\n",
    "no_of_iterations = 2\n",
    "\n",
    "# Do spatiotemporal of every timespan for every bbox.\n",
    "# So for every bbox:\n",
    "# For every timespan:\n",
    "for i in range(no_of_iterations):\n",
    "    for timespan in timespans_table:\n",
    "        print(\"Spatiotemporal\")\n",
    "        if i < skip_first_n:\n",
    "            print(f\"Skipping iteration {i}\")\n",
    "            continue    \n",
    "        print(f\"Iteration {i}. Temporal.\")\n",
    "        print(f\"All bboxes, timespan {timespan.get_id()} for spatiotemporal, iteration {i}\")\n",
    "        timespans_for_this_iteration = [ timespan ] * no_bboxes\n",
    "        # cc.measure_mobility_spatiotemporal(create_results=False,\n",
    "        #                                    bounding_boxes_table=bounding_boxes_table,\n",
    "        #                                    timespans_table=timespans_for_this_iteration,\n",
    "        #                                    export_csv_filename=f\"mobility_spatiotemporal_timespan_{timespan.get_id()}.csv\")\n",
    "        cc.measure_mongo_spatiotemporal(create_results=False,\n",
    "                                           bounding_boxes_table=bounding_boxes_table,\n",
    "                                           timespans_table=timespans_for_this_iteration,\n",
    "                                           export_csv_filename=f\"mongo_spatiotemporal_timespan_{timespan.get_id()}.csv\")"
   ],
   "id": "d9d1eaf6ab420860",
   "outputs": [
    {
     "name": "stderr",
     "output_type": "stream",
     "text": [
      "2024-12-01 19:12:44,907 - INFO: MongoDB endpoint: mongodb://localhost:55001\n",
      "2024-12-01 19:12:44,909 - INFO: MongoDB database name: temp\n",
      "2024-12-01 19:12:44,909 - INFO: MongoDB collection name: aisdata\n",
      "2024-12-01 19:12:44,912 - INFO: Running Mongo spatiotemporal\n",
      "2024-12-01 19:12:44,914 - INFO: {\"message\": \"Waiting for suitable server to become available\", \"selector\": \"Primary()\", \"operation\": \"find\", \"topologyDescription\": \"<TopologyDescription id: 674ca71c42fe2118239e9a8f, topology_type: Unknown, servers: [<ServerDescription ('localhost', 55001) server_type: Unknown, rtt: None>]>\", \"clientId\": {\"$oid\": \"674ca71c42fe2118239e9a8f\"}, \"remainingTimeMS\": 29}\n"
     ]
    },
    {
     "name": "stdout",
     "output_type": "stream",
     "text": [
      "Spatiotemporal\n",
      "Iteration 0. Temporal.\n",
      "All bboxes, timespan 0 for spatiotemporal, iteration 0\n"
     ]
    },
    {
     "name": "stderr",
     "output_type": "stream",
     "text": [
      "2024-12-01 19:12:48,025 - INFO: 0/25. Query time: 3.1113247871398926, time per result: 1.5556623935699463, no. of results: 2, bbox id: 0, timespan id: 0, timespan: 2020-12-31 00:00:00-2020-12-31 00:01:00\n",
      "2024-12-01 19:12:50,940 - INFO: 1/25. Query time: 2.9143877029418945, time per result: 0.032745929246538144, no. of results: 89, bbox id: 1, timespan id: 0, timespan: 2020-12-31 00:00:00-2020-12-31 00:01:00\n",
      "2024-12-01 19:12:53,756 - INFO: 2/25. Query time: 2.8158154487609863, time per result: 0.9386051495869955, no. of results: 3, bbox id: 2, timespan id: 0, timespan: 2020-12-31 00:00:00-2020-12-31 00:01:00\n",
      "2024-12-01 19:12:56,569 - INFO: 3/25. Query time: 2.811767101287842, time per result: 1.405883550643921, no. of results: 2, bbox id: 3, timespan id: 0, timespan: 2020-12-31 00:00:00-2020-12-31 00:01:00\n",
      "2024-12-01 19:12:59,439 - INFO: 4/25. Query time: 2.8694517612457275, time per result: 0.0382593568166097, no. of results: 75, bbox id: 4, timespan id: 0, timespan: 2020-12-31 00:00:00-2020-12-31 00:01:00\n",
      "2024-12-01 19:13:02,254 - INFO: 5/25. Query time: 2.814544439315796, time per result: 0.05988392424076162, no. of results: 47, bbox id: 5, timespan id: 0, timespan: 2020-12-31 00:00:00-2020-12-31 00:01:00\n",
      "2024-12-01 19:13:05,070 - INFO: 6/25. Query time: 2.814981460571289, time per result: 2.814981460571289, no. of results: 1, bbox id: 6, timespan id: 0, timespan: 2020-12-31 00:00:00-2020-12-31 00:01:00\n",
      "2024-12-01 19:13:07,919 - INFO: 7/25. Query time: 2.8478167057037354, time per result: 0.11865902940432231, no. of results: 24, bbox id: 7, timespan id: 0, timespan: 2020-12-31 00:00:00-2020-12-31 00:01:00\n",
      "2024-12-01 19:13:10,783 - INFO: 8/25. Query time: 2.8638360500335693, time per result: 0.031128652717756188, no. of results: 92, bbox id: 8, timespan id: 0, timespan: 2020-12-31 00:00:00-2020-12-31 00:01:00\n",
      "2024-12-01 19:13:13,692 - INFO: 9/25. Query time: 2.90814471244812, time per result: 2.90814471244812, no. of results: 1, bbox id: 9, timespan id: 0, timespan: 2020-12-31 00:00:00-2020-12-31 00:01:00\n",
      "2024-12-01 19:13:16,522 - INFO: 10/25. Query time: 2.828486919403076, time per result: 0.9428289731343588, no. of results: 3, bbox id: 10, timespan id: 0, timespan: 2020-12-31 00:00:00-2020-12-31 00:01:00\n"
     ]
    },
    {
     "ename": "KeyboardInterrupt",
     "evalue": "",
     "output_type": "error",
     "traceback": [
      "\u001B[0;31m---------------------------------------------------------------------------\u001B[0m",
      "\u001B[0;31mKeyboardInterrupt\u001B[0m                         Traceback (most recent call last)",
      "Cell \u001B[0;32mIn[18], line 20\u001B[0m\n\u001B[1;32m     15\u001B[0m timespans_for_this_iteration \u001B[38;5;241m=\u001B[39m [ timespan ] \u001B[38;5;241m*\u001B[39m no_bboxes\n\u001B[1;32m     16\u001B[0m \u001B[38;5;66;03m# cc.measure_mobility_spatiotemporal(create_results=False,\u001B[39;00m\n\u001B[1;32m     17\u001B[0m \u001B[38;5;66;03m#                                    bounding_boxes_table=bounding_boxes_table,\u001B[39;00m\n\u001B[1;32m     18\u001B[0m \u001B[38;5;66;03m#                                    timespans_table=timespans_for_this_iteration,\u001B[39;00m\n\u001B[1;32m     19\u001B[0m \u001B[38;5;66;03m#                                    export_csv_filename=f\"mobility_spatiotemporal_timespan_{timespan.get_id()}.csv\")\u001B[39;00m\n\u001B[0;32m---> 20\u001B[0m \u001B[43mcc\u001B[49m\u001B[38;5;241;43m.\u001B[39;49m\u001B[43mmeasure_mongo_spatiotemporal\u001B[49m\u001B[43m(\u001B[49m\u001B[43mcreate_results\u001B[49m\u001B[38;5;241;43m=\u001B[39;49m\u001B[38;5;28;43;01mFalse\u001B[39;49;00m\u001B[43m,\u001B[49m\n\u001B[1;32m     21\u001B[0m \u001B[43m                                   \u001B[49m\u001B[43mbounding_boxes_table\u001B[49m\u001B[38;5;241;43m=\u001B[39;49m\u001B[43mbounding_boxes_table\u001B[49m\u001B[43m,\u001B[49m\n\u001B[1;32m     22\u001B[0m \u001B[43m                                   \u001B[49m\u001B[43mtimespans_table\u001B[49m\u001B[38;5;241;43m=\u001B[39;49m\u001B[43mtimespans_for_this_iteration\u001B[49m\u001B[43m,\u001B[49m\n\u001B[1;32m     23\u001B[0m \u001B[43m                                   \u001B[49m\u001B[43mexport_csv_filename\u001B[49m\u001B[38;5;241;43m=\u001B[39;49m\u001B[38;5;124;43mf\u001B[39;49m\u001B[38;5;124;43m\"\u001B[39;49m\u001B[38;5;124;43mmongo_spatiotemporal_timespan_\u001B[39;49m\u001B[38;5;132;43;01m{\u001B[39;49;00m\u001B[43mtimespan\u001B[49m\u001B[38;5;241;43m.\u001B[39;49m\u001B[43mget_id\u001B[49m\u001B[43m(\u001B[49m\u001B[43m)\u001B[49m\u001B[38;5;132;43;01m}\u001B[39;49;00m\u001B[38;5;124;43m.csv\u001B[39;49m\u001B[38;5;124;43m\"\u001B[39;49m\u001B[43m)\u001B[49m\n",
      "File \u001B[0;32m~/Documents/gits/spatiotemportal-databases-comparison/comparison_commons.py:474\u001B[0m, in \u001B[0;36mmeasure_mongo_spatiotemporal\u001B[0;34m(create_results, bounding_boxes_table, timespans_table, export_csv_filename)\u001B[0m\n\u001B[1;32m    472\u001B[0m start_time \u001B[38;5;241m=\u001B[39m time\u001B[38;5;241m.\u001B[39mtime()\n\u001B[1;32m    473\u001B[0m \u001B[38;5;66;03m# Execute the query\u001B[39;00m\n\u001B[0;32m--> 474\u001B[0m mongo_spatiotemporal_result \u001B[38;5;241m=\u001B[39m \u001B[38;5;28;43mlist\u001B[39;49m\u001B[43m(\u001B[49m\u001B[43mcollection\u001B[49m\u001B[38;5;241;43m.\u001B[39;49m\u001B[43mfind\u001B[49m\u001B[43m(\u001B[49m\u001B[43mquery\u001B[49m\u001B[43m,\u001B[49m\u001B[43m \u001B[49m\u001B[43m{\u001B[49m\u001B[38;5;124;43m'\u001B[39;49m\u001B[38;5;124;43m_id\u001B[39;49m\u001B[38;5;124;43m'\u001B[39;49m\u001B[43m:\u001B[49m\u001B[43m \u001B[49m\u001B[38;5;28;43;01mFalse\u001B[39;49;00m\u001B[43m}\u001B[49m\u001B[43m)\u001B[49m\u001B[43m)\u001B[49m\n\u001B[1;32m    475\u001B[0m end_time \u001B[38;5;241m=\u001B[39m time\u001B[38;5;241m.\u001B[39mtime()\n\u001B[1;32m    477\u001B[0m no_results \u001B[38;5;241m=\u001B[39m \u001B[38;5;28mlen\u001B[39m(mongo_spatiotemporal_result)\n",
      "File \u001B[0;32m~/Documents/gits/spatiotemportal-databases-comparison/venv/lib/python3.10/site-packages/pymongo/cursor.py:1243\u001B[0m, in \u001B[0;36mCursor.next\u001B[0;34m(self)\u001B[0m\n\u001B[1;32m   1241\u001B[0m \u001B[38;5;28;01mif\u001B[39;00m \u001B[38;5;28mself\u001B[39m\u001B[38;5;241m.\u001B[39m__empty:\n\u001B[1;32m   1242\u001B[0m     \u001B[38;5;28;01mraise\u001B[39;00m \u001B[38;5;167;01mStopIteration\u001B[39;00m\n\u001B[0;32m-> 1243\u001B[0m \u001B[38;5;28;01mif\u001B[39;00m \u001B[38;5;28mlen\u001B[39m(\u001B[38;5;28mself\u001B[39m\u001B[38;5;241m.\u001B[39m__data) \u001B[38;5;129;01mor\u001B[39;00m \u001B[38;5;28;43mself\u001B[39;49m\u001B[38;5;241;43m.\u001B[39;49m\u001B[43m_refresh\u001B[49m\u001B[43m(\u001B[49m\u001B[43m)\u001B[49m:\n\u001B[1;32m   1244\u001B[0m     \u001B[38;5;28;01mreturn\u001B[39;00m \u001B[38;5;28mself\u001B[39m\u001B[38;5;241m.\u001B[39m__data\u001B[38;5;241m.\u001B[39mpopleft()\n\u001B[1;32m   1245\u001B[0m \u001B[38;5;28;01melse\u001B[39;00m:\n",
      "File \u001B[0;32m~/Documents/gits/spatiotemportal-databases-comparison/venv/lib/python3.10/site-packages/pymongo/cursor.py:1160\u001B[0m, in \u001B[0;36mCursor._refresh\u001B[0;34m(self)\u001B[0m\n\u001B[1;32m   1138\u001B[0m         \u001B[38;5;28;01mraise\u001B[39;00m InvalidOperation(\n\u001B[1;32m   1139\u001B[0m             \u001B[38;5;124m\"\u001B[39m\u001B[38;5;124mPassing a \u001B[39m\u001B[38;5;124m'\u001B[39m\u001B[38;5;124mhint\u001B[39m\u001B[38;5;124m'\u001B[39m\u001B[38;5;124m is required when using the min/max query\u001B[39m\u001B[38;5;124m\"\u001B[39m\n\u001B[1;32m   1140\u001B[0m             \u001B[38;5;124m\"\u001B[39m\u001B[38;5;124m option to ensure the query utilizes the correct index\u001B[39m\u001B[38;5;124m\"\u001B[39m\n\u001B[1;32m   1141\u001B[0m         )\n\u001B[1;32m   1142\u001B[0m     q \u001B[38;5;241m=\u001B[39m \u001B[38;5;28mself\u001B[39m\u001B[38;5;241m.\u001B[39m_query_class(\n\u001B[1;32m   1143\u001B[0m         \u001B[38;5;28mself\u001B[39m\u001B[38;5;241m.\u001B[39m__query_flags,\n\u001B[1;32m   1144\u001B[0m         \u001B[38;5;28mself\u001B[39m\u001B[38;5;241m.\u001B[39m__collection\u001B[38;5;241m.\u001B[39mdatabase\u001B[38;5;241m.\u001B[39mname,\n\u001B[0;32m   (...)\u001B[0m\n\u001B[1;32m   1158\u001B[0m         \u001B[38;5;28mself\u001B[39m\u001B[38;5;241m.\u001B[39m__exhaust,\n\u001B[1;32m   1159\u001B[0m     )\n\u001B[0;32m-> 1160\u001B[0m     \u001B[38;5;28;43mself\u001B[39;49m\u001B[38;5;241;43m.\u001B[39;49m\u001B[43m__send_message\u001B[49m\u001B[43m(\u001B[49m\u001B[43mq\u001B[49m\u001B[43m)\u001B[49m\n\u001B[1;32m   1161\u001B[0m \u001B[38;5;28;01melif\u001B[39;00m \u001B[38;5;28mself\u001B[39m\u001B[38;5;241m.\u001B[39m__id:  \u001B[38;5;66;03m# Get More\u001B[39;00m\n\u001B[1;32m   1162\u001B[0m     \u001B[38;5;28;01mif\u001B[39;00m \u001B[38;5;28mself\u001B[39m\u001B[38;5;241m.\u001B[39m__limit:\n",
      "File \u001B[0;32m~/Documents/gits/spatiotemportal-databases-comparison/venv/lib/python3.10/site-packages/pymongo/cursor.py:1039\u001B[0m, in \u001B[0;36mCursor.__send_message\u001B[0;34m(self, operation)\u001B[0m\n\u001B[1;32m   1036\u001B[0m     \u001B[38;5;28;01mraise\u001B[39;00m InvalidOperation(\u001B[38;5;124m\"\u001B[39m\u001B[38;5;124mexhaust cursors do not support auto encryption\u001B[39m\u001B[38;5;124m\"\u001B[39m)\n\u001B[1;32m   1038\u001B[0m \u001B[38;5;28;01mtry\u001B[39;00m:\n\u001B[0;32m-> 1039\u001B[0m     response \u001B[38;5;241m=\u001B[39m \u001B[43mclient\u001B[49m\u001B[38;5;241;43m.\u001B[39;49m\u001B[43m_run_operation\u001B[49m\u001B[43m(\u001B[49m\n\u001B[1;32m   1040\u001B[0m \u001B[43m        \u001B[49m\u001B[43moperation\u001B[49m\u001B[43m,\u001B[49m\u001B[43m \u001B[49m\u001B[38;5;28;43mself\u001B[39;49m\u001B[38;5;241;43m.\u001B[39;49m\u001B[43m_unpack_response\u001B[49m\u001B[43m,\u001B[49m\u001B[43m \u001B[49m\u001B[43maddress\u001B[49m\u001B[38;5;241;43m=\u001B[39;49m\u001B[38;5;28;43mself\u001B[39;49m\u001B[38;5;241;43m.\u001B[39;49m\u001B[43m__address\u001B[49m\n\u001B[1;32m   1041\u001B[0m \u001B[43m    \u001B[49m\u001B[43m)\u001B[49m\n\u001B[1;32m   1042\u001B[0m \u001B[38;5;28;01mexcept\u001B[39;00m OperationFailure \u001B[38;5;28;01mas\u001B[39;00m exc:\n\u001B[1;32m   1043\u001B[0m     \u001B[38;5;28;01mif\u001B[39;00m exc\u001B[38;5;241m.\u001B[39mcode \u001B[38;5;129;01min\u001B[39;00m _CURSOR_CLOSED_ERRORS \u001B[38;5;129;01mor\u001B[39;00m \u001B[38;5;28mself\u001B[39m\u001B[38;5;241m.\u001B[39m__exhaust:\n\u001B[1;32m   1044\u001B[0m         \u001B[38;5;66;03m# Don't send killCursors because the cursor is already closed.\u001B[39;00m\n",
      "File \u001B[0;32m~/Documents/gits/spatiotemportal-databases-comparison/venv/lib/python3.10/site-packages/pymongo/_csot.py:108\u001B[0m, in \u001B[0;36mapply.<locals>.csot_wrapper\u001B[0;34m(self, *args, **kwargs)\u001B[0m\n\u001B[1;32m    106\u001B[0m         \u001B[38;5;28;01mwith\u001B[39;00m _TimeoutContext(timeout):\n\u001B[1;32m    107\u001B[0m             \u001B[38;5;28;01mreturn\u001B[39;00m func(\u001B[38;5;28mself\u001B[39m, \u001B[38;5;241m*\u001B[39margs, \u001B[38;5;241m*\u001B[39m\u001B[38;5;241m*\u001B[39mkwargs)\n\u001B[0;32m--> 108\u001B[0m \u001B[38;5;28;01mreturn\u001B[39;00m \u001B[43mfunc\u001B[49m\u001B[43m(\u001B[49m\u001B[38;5;28;43mself\u001B[39;49m\u001B[43m,\u001B[49m\u001B[43m \u001B[49m\u001B[38;5;241;43m*\u001B[39;49m\u001B[43margs\u001B[49m\u001B[43m,\u001B[49m\u001B[43m \u001B[49m\u001B[38;5;241;43m*\u001B[39;49m\u001B[38;5;241;43m*\u001B[39;49m\u001B[43mkwargs\u001B[49m\u001B[43m)\u001B[49m\n",
      "File \u001B[0;32m~/Documents/gits/spatiotemportal-databases-comparison/venv/lib/python3.10/site-packages/pymongo/mongo_client.py:1425\u001B[0m, in \u001B[0;36mMongoClient._run_operation\u001B[0;34m(self, operation, unpack_res, address)\u001B[0m\n\u001B[1;32m   1415\u001B[0m     operation\u001B[38;5;241m.\u001B[39mreset()  \u001B[38;5;66;03m# Reset op in case of retry.\u001B[39;00m\n\u001B[1;32m   1416\u001B[0m     \u001B[38;5;28;01mreturn\u001B[39;00m server\u001B[38;5;241m.\u001B[39mrun_operation(\n\u001B[1;32m   1417\u001B[0m         conn,\n\u001B[1;32m   1418\u001B[0m         operation,\n\u001B[0;32m   (...)\u001B[0m\n\u001B[1;32m   1422\u001B[0m         \u001B[38;5;28mself\u001B[39m,\n\u001B[1;32m   1423\u001B[0m     )\n\u001B[0;32m-> 1425\u001B[0m \u001B[38;5;28;01mreturn\u001B[39;00m \u001B[38;5;28;43mself\u001B[39;49m\u001B[38;5;241;43m.\u001B[39;49m\u001B[43m_retryable_read\u001B[49m\u001B[43m(\u001B[49m\n\u001B[1;32m   1426\u001B[0m \u001B[43m    \u001B[49m\u001B[43m_cmd\u001B[49m\u001B[43m,\u001B[49m\n\u001B[1;32m   1427\u001B[0m \u001B[43m    \u001B[49m\u001B[43moperation\u001B[49m\u001B[38;5;241;43m.\u001B[39;49m\u001B[43mread_preference\u001B[49m\u001B[43m,\u001B[49m\n\u001B[1;32m   1428\u001B[0m \u001B[43m    \u001B[49m\u001B[43moperation\u001B[49m\u001B[38;5;241;43m.\u001B[39;49m\u001B[43msession\u001B[49m\u001B[43m,\u001B[49m\n\u001B[1;32m   1429\u001B[0m \u001B[43m    \u001B[49m\u001B[43maddress\u001B[49m\u001B[38;5;241;43m=\u001B[39;49m\u001B[43maddress\u001B[49m\u001B[43m,\u001B[49m\n\u001B[1;32m   1430\u001B[0m \u001B[43m    \u001B[49m\u001B[43mretryable\u001B[49m\u001B[38;5;241;43m=\u001B[39;49m\u001B[38;5;28;43misinstance\u001B[39;49m\u001B[43m(\u001B[49m\u001B[43moperation\u001B[49m\u001B[43m,\u001B[49m\u001B[43m \u001B[49m\u001B[43mmessage\u001B[49m\u001B[38;5;241;43m.\u001B[39;49m\u001B[43m_Query\u001B[49m\u001B[43m)\u001B[49m\u001B[43m,\u001B[49m\n\u001B[1;32m   1431\u001B[0m \u001B[43m    \u001B[49m\u001B[43moperation\u001B[49m\u001B[38;5;241;43m=\u001B[39;49m\u001B[43moperation\u001B[49m\u001B[38;5;241;43m.\u001B[39;49m\u001B[43mname\u001B[49m\u001B[43m,\u001B[49m\n\u001B[1;32m   1432\u001B[0m \u001B[43m\u001B[49m\u001B[43m)\u001B[49m\n",
      "File \u001B[0;32m~/Documents/gits/spatiotemportal-databases-comparison/venv/lib/python3.10/site-packages/pymongo/mongo_client.py:1534\u001B[0m, in \u001B[0;36mMongoClient._retryable_read\u001B[0;34m(self, func, read_pref, session, operation, address, retryable, operation_id)\u001B[0m\n\u001B[1;32m   1529\u001B[0m \u001B[38;5;66;03m# Ensure that the client supports retrying on reads and there is no session in\u001B[39;00m\n\u001B[1;32m   1530\u001B[0m \u001B[38;5;66;03m# transaction, otherwise, we will not support retry behavior for this call.\u001B[39;00m\n\u001B[1;32m   1531\u001B[0m retryable \u001B[38;5;241m=\u001B[39m \u001B[38;5;28mbool\u001B[39m(\n\u001B[1;32m   1532\u001B[0m     retryable \u001B[38;5;129;01mand\u001B[39;00m \u001B[38;5;28mself\u001B[39m\u001B[38;5;241m.\u001B[39moptions\u001B[38;5;241m.\u001B[39mretry_reads \u001B[38;5;129;01mand\u001B[39;00m \u001B[38;5;129;01mnot\u001B[39;00m (session \u001B[38;5;129;01mand\u001B[39;00m session\u001B[38;5;241m.\u001B[39min_transaction)\n\u001B[1;32m   1533\u001B[0m )\n\u001B[0;32m-> 1534\u001B[0m \u001B[38;5;28;01mreturn\u001B[39;00m \u001B[38;5;28;43mself\u001B[39;49m\u001B[38;5;241;43m.\u001B[39;49m\u001B[43m_retry_internal\u001B[49m\u001B[43m(\u001B[49m\n\u001B[1;32m   1535\u001B[0m \u001B[43m    \u001B[49m\u001B[43mfunc\u001B[49m\u001B[43m,\u001B[49m\n\u001B[1;32m   1536\u001B[0m \u001B[43m    \u001B[49m\u001B[43msession\u001B[49m\u001B[43m,\u001B[49m\n\u001B[1;32m   1537\u001B[0m \u001B[43m    \u001B[49m\u001B[38;5;28;43;01mNone\u001B[39;49;00m\u001B[43m,\u001B[49m\n\u001B[1;32m   1538\u001B[0m \u001B[43m    \u001B[49m\u001B[43moperation\u001B[49m\u001B[43m,\u001B[49m\n\u001B[1;32m   1539\u001B[0m \u001B[43m    \u001B[49m\u001B[43mis_read\u001B[49m\u001B[38;5;241;43m=\u001B[39;49m\u001B[38;5;28;43;01mTrue\u001B[39;49;00m\u001B[43m,\u001B[49m\n\u001B[1;32m   1540\u001B[0m \u001B[43m    \u001B[49m\u001B[43maddress\u001B[49m\u001B[38;5;241;43m=\u001B[39;49m\u001B[43maddress\u001B[49m\u001B[43m,\u001B[49m\n\u001B[1;32m   1541\u001B[0m \u001B[43m    \u001B[49m\u001B[43mread_pref\u001B[49m\u001B[38;5;241;43m=\u001B[39;49m\u001B[43mread_pref\u001B[49m\u001B[43m,\u001B[49m\n\u001B[1;32m   1542\u001B[0m \u001B[43m    \u001B[49m\u001B[43mretryable\u001B[49m\u001B[38;5;241;43m=\u001B[39;49m\u001B[43mretryable\u001B[49m\u001B[43m,\u001B[49m\n\u001B[1;32m   1543\u001B[0m \u001B[43m    \u001B[49m\u001B[43moperation_id\u001B[49m\u001B[38;5;241;43m=\u001B[39;49m\u001B[43moperation_id\u001B[49m\u001B[43m,\u001B[49m\n\u001B[1;32m   1544\u001B[0m \u001B[43m\u001B[49m\u001B[43m)\u001B[49m\n",
      "File \u001B[0;32m~/Documents/gits/spatiotemportal-databases-comparison/venv/lib/python3.10/site-packages/pymongo/_csot.py:108\u001B[0m, in \u001B[0;36mapply.<locals>.csot_wrapper\u001B[0;34m(self, *args, **kwargs)\u001B[0m\n\u001B[1;32m    106\u001B[0m         \u001B[38;5;28;01mwith\u001B[39;00m _TimeoutContext(timeout):\n\u001B[1;32m    107\u001B[0m             \u001B[38;5;28;01mreturn\u001B[39;00m func(\u001B[38;5;28mself\u001B[39m, \u001B[38;5;241m*\u001B[39margs, \u001B[38;5;241m*\u001B[39m\u001B[38;5;241m*\u001B[39mkwargs)\n\u001B[0;32m--> 108\u001B[0m \u001B[38;5;28;01mreturn\u001B[39;00m \u001B[43mfunc\u001B[49m\u001B[43m(\u001B[49m\u001B[38;5;28;43mself\u001B[39;49m\u001B[43m,\u001B[49m\u001B[43m \u001B[49m\u001B[38;5;241;43m*\u001B[39;49m\u001B[43margs\u001B[49m\u001B[43m,\u001B[49m\u001B[43m \u001B[49m\u001B[38;5;241;43m*\u001B[39;49m\u001B[38;5;241;43m*\u001B[39;49m\u001B[43mkwargs\u001B[49m\u001B[43m)\u001B[49m\n",
      "File \u001B[0;32m~/Documents/gits/spatiotemportal-databases-comparison/venv/lib/python3.10/site-packages/pymongo/mongo_client.py:1501\u001B[0m, in \u001B[0;36mMongoClient._retry_internal\u001B[0;34m(self, func, session, bulk, operation, is_read, address, read_pref, retryable, operation_id)\u001B[0m\n\u001B[1;32m   1464\u001B[0m \u001B[38;5;129m@_csot\u001B[39m\u001B[38;5;241m.\u001B[39mapply\n\u001B[1;32m   1465\u001B[0m \u001B[38;5;28;01mdef\u001B[39;00m \u001B[38;5;21m_retry_internal\u001B[39m(\n\u001B[1;32m   1466\u001B[0m     \u001B[38;5;28mself\u001B[39m,\n\u001B[0;32m   (...)\u001B[0m\n\u001B[1;32m   1475\u001B[0m     operation_id: Optional[\u001B[38;5;28mint\u001B[39m] \u001B[38;5;241m=\u001B[39m \u001B[38;5;28;01mNone\u001B[39;00m,\n\u001B[1;32m   1476\u001B[0m ) \u001B[38;5;241m-\u001B[39m\u001B[38;5;241m>\u001B[39m T:\n\u001B[1;32m   1477\u001B[0m \u001B[38;5;250m    \u001B[39m\u001B[38;5;124;03m\"\"\"Internal retryable helper for all client transactions.\u001B[39;00m\n\u001B[1;32m   1478\u001B[0m \n\u001B[1;32m   1479\u001B[0m \u001B[38;5;124;03m    :param func: Callback function we want to retry\u001B[39;00m\n\u001B[0;32m   (...)\u001B[0m\n\u001B[1;32m   1488\u001B[0m \u001B[38;5;124;03m    :return: Output of the calling func()\u001B[39;00m\n\u001B[1;32m   1489\u001B[0m \u001B[38;5;124;03m    \"\"\"\u001B[39;00m\n\u001B[1;32m   1490\u001B[0m     \u001B[38;5;28;01mreturn\u001B[39;00m \u001B[43m_ClientConnectionRetryable\u001B[49m\u001B[43m(\u001B[49m\n\u001B[1;32m   1491\u001B[0m \u001B[43m        \u001B[49m\u001B[43mmongo_client\u001B[49m\u001B[38;5;241;43m=\u001B[39;49m\u001B[38;5;28;43mself\u001B[39;49m\u001B[43m,\u001B[49m\n\u001B[1;32m   1492\u001B[0m \u001B[43m        \u001B[49m\u001B[43mfunc\u001B[49m\u001B[38;5;241;43m=\u001B[39;49m\u001B[43mfunc\u001B[49m\u001B[43m,\u001B[49m\n\u001B[1;32m   1493\u001B[0m \u001B[43m        \u001B[49m\u001B[43mbulk\u001B[49m\u001B[38;5;241;43m=\u001B[39;49m\u001B[43mbulk\u001B[49m\u001B[43m,\u001B[49m\n\u001B[1;32m   1494\u001B[0m \u001B[43m        \u001B[49m\u001B[43moperation\u001B[49m\u001B[38;5;241;43m=\u001B[39;49m\u001B[43moperation\u001B[49m\u001B[43m,\u001B[49m\n\u001B[1;32m   1495\u001B[0m \u001B[43m        \u001B[49m\u001B[43mis_read\u001B[49m\u001B[38;5;241;43m=\u001B[39;49m\u001B[43mis_read\u001B[49m\u001B[43m,\u001B[49m\n\u001B[1;32m   1496\u001B[0m \u001B[43m        \u001B[49m\u001B[43msession\u001B[49m\u001B[38;5;241;43m=\u001B[39;49m\u001B[43msession\u001B[49m\u001B[43m,\u001B[49m\n\u001B[1;32m   1497\u001B[0m \u001B[43m        \u001B[49m\u001B[43mread_pref\u001B[49m\u001B[38;5;241;43m=\u001B[39;49m\u001B[43mread_pref\u001B[49m\u001B[43m,\u001B[49m\n\u001B[1;32m   1498\u001B[0m \u001B[43m        \u001B[49m\u001B[43maddress\u001B[49m\u001B[38;5;241;43m=\u001B[39;49m\u001B[43maddress\u001B[49m\u001B[43m,\u001B[49m\n\u001B[1;32m   1499\u001B[0m \u001B[43m        \u001B[49m\u001B[43mretryable\u001B[49m\u001B[38;5;241;43m=\u001B[39;49m\u001B[43mretryable\u001B[49m\u001B[43m,\u001B[49m\n\u001B[1;32m   1500\u001B[0m \u001B[43m        \u001B[49m\u001B[43moperation_id\u001B[49m\u001B[38;5;241;43m=\u001B[39;49m\u001B[43moperation_id\u001B[49m\u001B[43m,\u001B[49m\n\u001B[0;32m-> 1501\u001B[0m \u001B[43m    \u001B[49m\u001B[43m)\u001B[49m\u001B[38;5;241;43m.\u001B[39;49m\u001B[43mrun\u001B[49m\u001B[43m(\u001B[49m\u001B[43m)\u001B[49m\n",
      "File \u001B[0;32m~/Documents/gits/spatiotemportal-databases-comparison/venv/lib/python3.10/site-packages/pymongo/mongo_client.py:2347\u001B[0m, in \u001B[0;36m_ClientConnectionRetryable.run\u001B[0;34m(self)\u001B[0m\n\u001B[1;32m   2345\u001B[0m \u001B[38;5;28mself\u001B[39m\u001B[38;5;241m.\u001B[39m_check_last_error(check_csot\u001B[38;5;241m=\u001B[39m\u001B[38;5;28;01mTrue\u001B[39;00m)\n\u001B[1;32m   2346\u001B[0m \u001B[38;5;28;01mtry\u001B[39;00m:\n\u001B[0;32m-> 2347\u001B[0m     \u001B[38;5;28;01mreturn\u001B[39;00m \u001B[38;5;28;43mself\u001B[39;49m\u001B[38;5;241;43m.\u001B[39;49m\u001B[43m_read\u001B[49m\u001B[43m(\u001B[49m\u001B[43m)\u001B[49m \u001B[38;5;28;01mif\u001B[39;00m \u001B[38;5;28mself\u001B[39m\u001B[38;5;241m.\u001B[39m_is_read \u001B[38;5;28;01melse\u001B[39;00m \u001B[38;5;28mself\u001B[39m\u001B[38;5;241m.\u001B[39m_write()\n\u001B[1;32m   2348\u001B[0m \u001B[38;5;28;01mexcept\u001B[39;00m ServerSelectionTimeoutError:\n\u001B[1;32m   2349\u001B[0m     \u001B[38;5;66;03m# The application may think the write was never attempted\u001B[39;00m\n\u001B[1;32m   2350\u001B[0m     \u001B[38;5;66;03m# if we raise ServerSelectionTimeoutError on the retry\u001B[39;00m\n\u001B[1;32m   2351\u001B[0m     \u001B[38;5;66;03m# attempt. Raise the original exception instead.\u001B[39;00m\n\u001B[1;32m   2352\u001B[0m     \u001B[38;5;28mself\u001B[39m\u001B[38;5;241m.\u001B[39m_check_last_error()\n",
      "File \u001B[0;32m~/Documents/gits/spatiotemportal-databases-comparison/venv/lib/python3.10/site-packages/pymongo/mongo_client.py:2485\u001B[0m, in \u001B[0;36m_ClientConnectionRetryable._read\u001B[0;34m(self)\u001B[0m\n\u001B[1;32m   2483\u001B[0m \u001B[38;5;28;01mif\u001B[39;00m \u001B[38;5;28mself\u001B[39m\u001B[38;5;241m.\u001B[39m_retrying \u001B[38;5;129;01mand\u001B[39;00m \u001B[38;5;129;01mnot\u001B[39;00m \u001B[38;5;28mself\u001B[39m\u001B[38;5;241m.\u001B[39m_retryable:\n\u001B[1;32m   2484\u001B[0m     \u001B[38;5;28mself\u001B[39m\u001B[38;5;241m.\u001B[39m_check_last_error()\n\u001B[0;32m-> 2485\u001B[0m \u001B[38;5;28;01mreturn\u001B[39;00m \u001B[38;5;28;43mself\u001B[39;49m\u001B[38;5;241;43m.\u001B[39;49m\u001B[43m_func\u001B[49m\u001B[43m(\u001B[49m\u001B[38;5;28;43mself\u001B[39;49m\u001B[38;5;241;43m.\u001B[39;49m\u001B[43m_session\u001B[49m\u001B[43m,\u001B[49m\u001B[43m \u001B[49m\u001B[38;5;28;43mself\u001B[39;49m\u001B[38;5;241;43m.\u001B[39;49m\u001B[43m_server\u001B[49m\u001B[43m,\u001B[49m\u001B[43m \u001B[49m\u001B[43mconn\u001B[49m\u001B[43m,\u001B[49m\u001B[43m \u001B[49m\u001B[43mread_pref\u001B[49m\u001B[43m)\u001B[49m\n",
      "File \u001B[0;32m~/Documents/gits/spatiotemportal-databases-comparison/venv/lib/python3.10/site-packages/pymongo/mongo_client.py:1416\u001B[0m, in \u001B[0;36mMongoClient._run_operation.<locals>._cmd\u001B[0;34m(_session, server, conn, read_preference)\u001B[0m\n\u001B[1;32m   1409\u001B[0m \u001B[38;5;28;01mdef\u001B[39;00m \u001B[38;5;21m_cmd\u001B[39m(\n\u001B[1;32m   1410\u001B[0m     _session: Optional[ClientSession],\n\u001B[1;32m   1411\u001B[0m     server: Server,\n\u001B[1;32m   1412\u001B[0m     conn: Connection,\n\u001B[1;32m   1413\u001B[0m     read_preference: _ServerMode,\n\u001B[1;32m   1414\u001B[0m ) \u001B[38;5;241m-\u001B[39m\u001B[38;5;241m>\u001B[39m Response:\n\u001B[1;32m   1415\u001B[0m     operation\u001B[38;5;241m.\u001B[39mreset()  \u001B[38;5;66;03m# Reset op in case of retry.\u001B[39;00m\n\u001B[0;32m-> 1416\u001B[0m     \u001B[38;5;28;01mreturn\u001B[39;00m \u001B[43mserver\u001B[49m\u001B[38;5;241;43m.\u001B[39;49m\u001B[43mrun_operation\u001B[49m\u001B[43m(\u001B[49m\n\u001B[1;32m   1417\u001B[0m \u001B[43m        \u001B[49m\u001B[43mconn\u001B[49m\u001B[43m,\u001B[49m\n\u001B[1;32m   1418\u001B[0m \u001B[43m        \u001B[49m\u001B[43moperation\u001B[49m\u001B[43m,\u001B[49m\n\u001B[1;32m   1419\u001B[0m \u001B[43m        \u001B[49m\u001B[43mread_preference\u001B[49m\u001B[43m,\u001B[49m\n\u001B[1;32m   1420\u001B[0m \u001B[43m        \u001B[49m\u001B[38;5;28;43mself\u001B[39;49m\u001B[38;5;241;43m.\u001B[39;49m\u001B[43m_event_listeners\u001B[49m\u001B[43m,\u001B[49m\n\u001B[1;32m   1421\u001B[0m \u001B[43m        \u001B[49m\u001B[43munpack_res\u001B[49m\u001B[43m,\u001B[49m\n\u001B[1;32m   1422\u001B[0m \u001B[43m        \u001B[49m\u001B[38;5;28;43mself\u001B[39;49m\u001B[43m,\u001B[49m\n\u001B[1;32m   1423\u001B[0m \u001B[43m    \u001B[49m\u001B[43m)\u001B[49m\n",
      "File \u001B[0;32m~/Documents/gits/spatiotemportal-databases-comparison/venv/lib/python3.10/site-packages/pymongo/helpers.py:327\u001B[0m, in \u001B[0;36m_handle_reauth.<locals>.inner\u001B[0;34m(*args, **kwargs)\u001B[0m\n\u001B[1;32m    324\u001B[0m \u001B[38;5;28;01mfrom\u001B[39;00m \u001B[38;5;21;01mpymongo\u001B[39;00m\u001B[38;5;21;01m.\u001B[39;00m\u001B[38;5;21;01mpool\u001B[39;00m \u001B[38;5;28;01mimport\u001B[39;00m Connection\n\u001B[1;32m    326\u001B[0m \u001B[38;5;28;01mtry\u001B[39;00m:\n\u001B[0;32m--> 327\u001B[0m     \u001B[38;5;28;01mreturn\u001B[39;00m \u001B[43mfunc\u001B[49m\u001B[43m(\u001B[49m\u001B[38;5;241;43m*\u001B[39;49m\u001B[43margs\u001B[49m\u001B[43m,\u001B[49m\u001B[43m \u001B[49m\u001B[38;5;241;43m*\u001B[39;49m\u001B[38;5;241;43m*\u001B[39;49m\u001B[43mkwargs\u001B[49m\u001B[43m)\u001B[49m\n\u001B[1;32m    328\u001B[0m \u001B[38;5;28;01mexcept\u001B[39;00m OperationFailure \u001B[38;5;28;01mas\u001B[39;00m exc:\n\u001B[1;32m    329\u001B[0m     \u001B[38;5;28;01mif\u001B[39;00m no_reauth:\n",
      "File \u001B[0;32m~/Documents/gits/spatiotemportal-databases-comparison/venv/lib/python3.10/site-packages/pymongo/server.py:171\u001B[0m, in \u001B[0;36mServer.run_operation\u001B[0;34m(self, conn, operation, read_preference, listeners, unpack_res, client)\u001B[0m\n\u001B[1;32m    169\u001B[0m \u001B[38;5;28;01melse\u001B[39;00m:\n\u001B[1;32m    170\u001B[0m     conn\u001B[38;5;241m.\u001B[39msend_message(data, max_doc_size)\n\u001B[0;32m--> 171\u001B[0m     reply \u001B[38;5;241m=\u001B[39m \u001B[43mconn\u001B[49m\u001B[38;5;241;43m.\u001B[39;49m\u001B[43mreceive_message\u001B[49m\u001B[43m(\u001B[49m\u001B[43mrequest_id\u001B[49m\u001B[43m)\u001B[49m\n\u001B[1;32m    173\u001B[0m \u001B[38;5;66;03m# Unpack and check for command errors.\u001B[39;00m\n\u001B[1;32m    174\u001B[0m \u001B[38;5;28;01mif\u001B[39;00m use_cmd:\n",
      "File \u001B[0;32m~/Documents/gits/spatiotemportal-databases-comparison/venv/lib/python3.10/site-packages/pymongo/pool.py:1039\u001B[0m, in \u001B[0;36mConnection.receive_message\u001B[0;34m(self, request_id)\u001B[0m\n\u001B[1;32m   1037\u001B[0m     \u001B[38;5;28;01mreturn\u001B[39;00m receive_message(\u001B[38;5;28mself\u001B[39m, request_id, \u001B[38;5;28mself\u001B[39m\u001B[38;5;241m.\u001B[39mmax_message_size)\n\u001B[1;32m   1038\u001B[0m \u001B[38;5;28;01mexcept\u001B[39;00m \u001B[38;5;167;01mBaseException\u001B[39;00m \u001B[38;5;28;01mas\u001B[39;00m error:\n\u001B[0;32m-> 1039\u001B[0m     \u001B[38;5;28;43mself\u001B[39;49m\u001B[38;5;241;43m.\u001B[39;49m\u001B[43m_raise_connection_failure\u001B[49m\u001B[43m(\u001B[49m\u001B[43merror\u001B[49m\u001B[43m)\u001B[49m\n",
      "File \u001B[0;32m~/Documents/gits/spatiotemportal-databases-comparison/venv/lib/python3.10/site-packages/pymongo/pool.py:1037\u001B[0m, in \u001B[0;36mConnection.receive_message\u001B[0;34m(self, request_id)\u001B[0m\n\u001B[1;32m   1032\u001B[0m \u001B[38;5;250m\u001B[39m\u001B[38;5;124;03m\"\"\"Receive a raw BSON message or raise ConnectionFailure.\u001B[39;00m\n\u001B[1;32m   1033\u001B[0m \n\u001B[1;32m   1034\u001B[0m \u001B[38;5;124;03mIf any exception is raised, the socket is closed.\u001B[39;00m\n\u001B[1;32m   1035\u001B[0m \u001B[38;5;124;03m\"\"\"\u001B[39;00m\n\u001B[1;32m   1036\u001B[0m \u001B[38;5;28;01mtry\u001B[39;00m:\n\u001B[0;32m-> 1037\u001B[0m     \u001B[38;5;28;01mreturn\u001B[39;00m \u001B[43mreceive_message\u001B[49m\u001B[43m(\u001B[49m\u001B[38;5;28;43mself\u001B[39;49m\u001B[43m,\u001B[49m\u001B[43m \u001B[49m\u001B[43mrequest_id\u001B[49m\u001B[43m,\u001B[49m\u001B[43m \u001B[49m\u001B[38;5;28;43mself\u001B[39;49m\u001B[38;5;241;43m.\u001B[39;49m\u001B[43mmax_message_size\u001B[49m\u001B[43m)\u001B[49m\n\u001B[1;32m   1038\u001B[0m \u001B[38;5;28;01mexcept\u001B[39;00m \u001B[38;5;167;01mBaseException\u001B[39;00m \u001B[38;5;28;01mas\u001B[39;00m error:\n\u001B[1;32m   1039\u001B[0m     \u001B[38;5;28mself\u001B[39m\u001B[38;5;241m.\u001B[39m_raise_connection_failure(error)\n",
      "File \u001B[0;32m~/Documents/gits/spatiotemportal-databases-comparison/venv/lib/python3.10/site-packages/pymongo/network.py:317\u001B[0m, in \u001B[0;36mreceive_message\u001B[0;34m(conn, request_id, max_message_size)\u001B[0m\n\u001B[1;32m    315\u001B[0m         deadline \u001B[38;5;241m=\u001B[39m \u001B[38;5;28;01mNone\u001B[39;00m\n\u001B[1;32m    316\u001B[0m \u001B[38;5;66;03m# Ignore the response's request id.\u001B[39;00m\n\u001B[0;32m--> 317\u001B[0m length, _, response_to, op_code \u001B[38;5;241m=\u001B[39m _UNPACK_HEADER(\u001B[43m_receive_data_on_socket\u001B[49m\u001B[43m(\u001B[49m\u001B[43mconn\u001B[49m\u001B[43m,\u001B[49m\u001B[43m \u001B[49m\u001B[38;5;241;43m16\u001B[39;49m\u001B[43m,\u001B[49m\u001B[43m \u001B[49m\u001B[43mdeadline\u001B[49m\u001B[43m)\u001B[49m)\n\u001B[1;32m    318\u001B[0m \u001B[38;5;66;03m# No request_id for exhaust cursor \"getMore\".\u001B[39;00m\n\u001B[1;32m    319\u001B[0m \u001B[38;5;28;01mif\u001B[39;00m request_id \u001B[38;5;129;01mis\u001B[39;00m \u001B[38;5;129;01mnot\u001B[39;00m \u001B[38;5;28;01mNone\u001B[39;00m:\n",
      "File \u001B[0;32m~/Documents/gits/spatiotemportal-databases-comparison/venv/lib/python3.10/site-packages/pymongo/network.py:394\u001B[0m, in \u001B[0;36m_receive_data_on_socket\u001B[0;34m(conn, length, deadline)\u001B[0m\n\u001B[1;32m    392\u001B[0m \u001B[38;5;28;01mwhile\u001B[39;00m bytes_read \u001B[38;5;241m<\u001B[39m length:\n\u001B[1;32m    393\u001B[0m     \u001B[38;5;28;01mtry\u001B[39;00m:\n\u001B[0;32m--> 394\u001B[0m         \u001B[43mwait_for_read\u001B[49m\u001B[43m(\u001B[49m\u001B[43mconn\u001B[49m\u001B[43m,\u001B[49m\u001B[43m \u001B[49m\u001B[43mdeadline\u001B[49m\u001B[43m)\u001B[49m\n\u001B[1;32m    395\u001B[0m         \u001B[38;5;66;03m# CSOT: Update timeout. When the timeout has expired perform one\u001B[39;00m\n\u001B[1;32m    396\u001B[0m         \u001B[38;5;66;03m# final non-blocking recv. This helps avoid spurious timeouts when\u001B[39;00m\n\u001B[1;32m    397\u001B[0m         \u001B[38;5;66;03m# the response is actually already buffered on the client.\u001B[39;00m\n\u001B[1;32m    398\u001B[0m         \u001B[38;5;28;01mif\u001B[39;00m _csot\u001B[38;5;241m.\u001B[39mget_timeout() \u001B[38;5;129;01mand\u001B[39;00m deadline \u001B[38;5;129;01mis\u001B[39;00m \u001B[38;5;129;01mnot\u001B[39;00m \u001B[38;5;28;01mNone\u001B[39;00m:\n",
      "File \u001B[0;32m~/Documents/gits/spatiotemportal-databases-comparison/venv/lib/python3.10/site-packages/pymongo/network.py:375\u001B[0m, in \u001B[0;36mwait_for_read\u001B[0;34m(conn, deadline)\u001B[0m\n\u001B[1;32m    373\u001B[0m     \u001B[38;5;28;01melse\u001B[39;00m:\n\u001B[1;32m    374\u001B[0m         timeout \u001B[38;5;241m=\u001B[39m _POLL_TIMEOUT\n\u001B[0;32m--> 375\u001B[0m     readable \u001B[38;5;241m=\u001B[39m \u001B[43mconn\u001B[49m\u001B[38;5;241;43m.\u001B[39;49m\u001B[43msocket_checker\u001B[49m\u001B[38;5;241;43m.\u001B[39;49m\u001B[43mselect\u001B[49m\u001B[43m(\u001B[49m\u001B[43msock\u001B[49m\u001B[43m,\u001B[49m\u001B[43m \u001B[49m\u001B[43mread\u001B[49m\u001B[38;5;241;43m=\u001B[39;49m\u001B[38;5;28;43;01mTrue\u001B[39;49;00m\u001B[43m,\u001B[49m\u001B[43m \u001B[49m\u001B[43mtimeout\u001B[49m\u001B[38;5;241;43m=\u001B[39;49m\u001B[43mtimeout\u001B[49m\u001B[43m)\u001B[49m\n\u001B[1;32m    376\u001B[0m \u001B[38;5;28;01mif\u001B[39;00m conn\u001B[38;5;241m.\u001B[39mcancel_context\u001B[38;5;241m.\u001B[39mcancelled:\n\u001B[1;32m    377\u001B[0m     \u001B[38;5;28;01mraise\u001B[39;00m _OperationCancelled(\u001B[38;5;124m\"\u001B[39m\u001B[38;5;124moperation cancelled\u001B[39m\u001B[38;5;124m\"\u001B[39m)\n",
      "File \u001B[0;32m~/Documents/gits/spatiotemportal-databases-comparison/venv/lib/python3.10/site-packages/pymongo/socket_checker.py:66\u001B[0m, in \u001B[0;36mSocketChecker.select\u001B[0;34m(self, sock, read, write, timeout)\u001B[0m\n\u001B[1;32m     62\u001B[0m \u001B[38;5;28;01mtry\u001B[39;00m:\n\u001B[1;32m     63\u001B[0m     \u001B[38;5;66;03m# poll() timeout is in milliseconds. select()\u001B[39;00m\n\u001B[1;32m     64\u001B[0m     \u001B[38;5;66;03m# timeout is in seconds.\u001B[39;00m\n\u001B[1;32m     65\u001B[0m     timeout_ \u001B[38;5;241m=\u001B[39m \u001B[38;5;28;01mNone\u001B[39;00m \u001B[38;5;28;01mif\u001B[39;00m timeout \u001B[38;5;129;01mis\u001B[39;00m \u001B[38;5;28;01mNone\u001B[39;00m \u001B[38;5;28;01melse\u001B[39;00m timeout \u001B[38;5;241m*\u001B[39m \u001B[38;5;241m1000\u001B[39m\n\u001B[0;32m---> 66\u001B[0m     res \u001B[38;5;241m=\u001B[39m \u001B[38;5;28;43mself\u001B[39;49m\u001B[38;5;241;43m.\u001B[39;49m\u001B[43m_poller\u001B[49m\u001B[38;5;241;43m.\u001B[39;49m\u001B[43mpoll\u001B[49m\u001B[43m(\u001B[49m\u001B[43mtimeout_\u001B[49m\u001B[43m)\u001B[49m\n\u001B[1;32m     67\u001B[0m     \u001B[38;5;66;03m# poll returns a possibly-empty list containing\u001B[39;00m\n\u001B[1;32m     68\u001B[0m     \u001B[38;5;66;03m# (fd, event) 2-tuples for the descriptors that have\u001B[39;00m\n\u001B[1;32m     69\u001B[0m     \u001B[38;5;66;03m# events or errors to report. Return True if the list\u001B[39;00m\n\u001B[1;32m     70\u001B[0m     \u001B[38;5;66;03m# is not empty.\u001B[39;00m\n\u001B[1;32m     71\u001B[0m     \u001B[38;5;28;01mreturn\u001B[39;00m \u001B[38;5;28mbool\u001B[39m(res)\n",
      "\u001B[0;31mKeyboardInterrupt\u001B[0m: "
     ]
    }
   ],
   "execution_count": 18
  }
 ],
 "metadata": {
  "kernelspec": {
   "display_name": "Python 3",
   "language": "python",
   "name": "python3"
  },
  "language_info": {
   "codemirror_mode": {
    "name": "ipython",
    "version": 2
   },
   "file_extension": ".py",
   "mimetype": "text/x-python",
   "name": "python",
   "nbconvert_exporter": "python",
   "pygments_lexer": "ipython2",
   "version": "2.7.6"
  }
 },
 "nbformat": 4,
 "nbformat_minor": 5
}
